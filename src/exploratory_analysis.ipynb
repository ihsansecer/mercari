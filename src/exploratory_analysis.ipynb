{
 "cells": [
  {
   "cell_type": "markdown",
   "metadata": {},
   "source": [
    "# Exploratory Data Analysis"
   ]
  },
  {
   "cell_type": "code",
   "execution_count": 1,
   "metadata": {},
   "outputs": [],
   "source": [
    "%matplotlib inline\n",
    "\n",
    "import re\n",
    "from collections import Counter\n",
    "\n",
    "import pandas as pd\n",
    "import numpy as np\n",
    "import matplotlib.pyplot as plt \n",
    "from nltk import download\n",
    "from nltk.corpus import stopwords"
   ]
  },
  {
   "cell_type": "code",
   "execution_count": 2,
   "metadata": {},
   "outputs": [
    {
     "name": "stdout",
     "output_type": "stream",
     "text": [
      "Number of items: 1482535\n"
     ]
    },
    {
     "data": {
      "text/html": [
       "<div>\n",
       "<style scoped>\n",
       "    .dataframe tbody tr th:only-of-type {\n",
       "        vertical-align: middle;\n",
       "    }\n",
       "\n",
       "    .dataframe tbody tr th {\n",
       "        vertical-align: top;\n",
       "    }\n",
       "\n",
       "    .dataframe thead th {\n",
       "        text-align: right;\n",
       "    }\n",
       "</style>\n",
       "<table border=\"1\" class=\"dataframe\">\n",
       "  <thead>\n",
       "    <tr style=\"text-align: right;\">\n",
       "      <th></th>\n",
       "      <th>train_id</th>\n",
       "      <th>name</th>\n",
       "      <th>item_condition_id</th>\n",
       "      <th>category_name</th>\n",
       "      <th>brand_name</th>\n",
       "      <th>price</th>\n",
       "      <th>shipping</th>\n",
       "      <th>item_description</th>\n",
       "    </tr>\n",
       "  </thead>\n",
       "  <tbody>\n",
       "    <tr>\n",
       "      <th>0</th>\n",
       "      <td>0</td>\n",
       "      <td>MLB Cincinnati Reds T Shirt Size XL</td>\n",
       "      <td>3</td>\n",
       "      <td>Men/Tops/T-shirts</td>\n",
       "      <td>NaN</td>\n",
       "      <td>10.0</td>\n",
       "      <td>1</td>\n",
       "      <td>No description yet</td>\n",
       "    </tr>\n",
       "    <tr>\n",
       "      <th>1</th>\n",
       "      <td>1</td>\n",
       "      <td>Razer BlackWidow Chroma Keyboard</td>\n",
       "      <td>3</td>\n",
       "      <td>Electronics/Computers &amp; Tablets/Components &amp; P...</td>\n",
       "      <td>Razer</td>\n",
       "      <td>52.0</td>\n",
       "      <td>0</td>\n",
       "      <td>This keyboard is in great condition and works ...</td>\n",
       "    </tr>\n",
       "    <tr>\n",
       "      <th>2</th>\n",
       "      <td>2</td>\n",
       "      <td>AVA-VIV Blouse</td>\n",
       "      <td>1</td>\n",
       "      <td>Women/Tops &amp; Blouses/Blouse</td>\n",
       "      <td>Target</td>\n",
       "      <td>10.0</td>\n",
       "      <td>1</td>\n",
       "      <td>Adorable top with a hint of lace and a key hol...</td>\n",
       "    </tr>\n",
       "    <tr>\n",
       "      <th>3</th>\n",
       "      <td>3</td>\n",
       "      <td>Leather Horse Statues</td>\n",
       "      <td>1</td>\n",
       "      <td>Home/Home Décor/Home Décor Accents</td>\n",
       "      <td>NaN</td>\n",
       "      <td>35.0</td>\n",
       "      <td>1</td>\n",
       "      <td>New with tags. Leather horses. Retail for [rm]...</td>\n",
       "    </tr>\n",
       "    <tr>\n",
       "      <th>4</th>\n",
       "      <td>4</td>\n",
       "      <td>24K GOLD plated rose</td>\n",
       "      <td>1</td>\n",
       "      <td>Women/Jewelry/Necklaces</td>\n",
       "      <td>NaN</td>\n",
       "      <td>44.0</td>\n",
       "      <td>0</td>\n",
       "      <td>Complete with certificate of authenticity</td>\n",
       "    </tr>\n",
       "  </tbody>\n",
       "</table>\n",
       "</div>"
      ],
      "text/plain": [
       "   train_id                                 name  item_condition_id  \\\n",
       "0         0  MLB Cincinnati Reds T Shirt Size XL                  3   \n",
       "1         1     Razer BlackWidow Chroma Keyboard                  3   \n",
       "2         2                       AVA-VIV Blouse                  1   \n",
       "3         3                Leather Horse Statues                  1   \n",
       "4         4                 24K GOLD plated rose                  1   \n",
       "\n",
       "                                       category_name brand_name  price  \\\n",
       "0                                  Men/Tops/T-shirts        NaN   10.0   \n",
       "1  Electronics/Computers & Tablets/Components & P...      Razer   52.0   \n",
       "2                        Women/Tops & Blouses/Blouse     Target   10.0   \n",
       "3                 Home/Home Décor/Home Décor Accents        NaN   35.0   \n",
       "4                            Women/Jewelry/Necklaces        NaN   44.0   \n",
       "\n",
       "   shipping                                   item_description  \n",
       "0         1                                 No description yet  \n",
       "1         0  This keyboard is in great condition and works ...  \n",
       "2         1  Adorable top with a hint of lace and a key hol...  \n",
       "3         1  New with tags. Leather horses. Retail for [rm]...  \n",
       "4         0          Complete with certificate of authenticity  "
      ]
     },
     "execution_count": 2,
     "metadata": {},
     "output_type": "execute_result"
    }
   ],
   "source": [
    "df = pd.read_csv('../data/train.tsv', sep='\\t')\n",
    "print(\"Number of items: {}\".format(len(df)))\n",
    "df.head()"
   ]
  },
  {
   "cell_type": "markdown",
   "metadata": {},
   "source": [
    "### Data fields\n",
    "\n",
    "#### train.tsv, test.tsv\n",
    "\n",
    "- `train_id` or `test_id` - the id of the listing\n",
    "\n",
    "- name - the title of the listing. Note that we have cleaned the data to remove text that look like prices (e.g. $20) to avoid leakage. These removed prices are represented as [rm]\n",
    "\n",
    "- `item_condition_id` - the condition of the items provided by the seller\n",
    "\n",
    "- `category_name` - category of the listing\n",
    "\n",
    "- `brand_name`\n",
    "\n",
    "- `price` - the price that the item was sold for. This is the target variable that you will predict. The unit is USD. This column doesn't exist in test.tsv since that is what you will predict.\n",
    "\n",
    "- `shipping` - 1 if shipping fee is paid by seller and 0 by buyer\n",
    "\n",
    "- `item_description` - the full description of the item. Note that we have cleaned the data to remove text that look like prices (e.g. $20) to avoid leakage. These removed prices are represented as [rm]\n",
    "\n",
    "[Reference](https://www.kaggle.com/c/mercari-price-suggestion-challenge/data)"
   ]
  },
  {
   "cell_type": "markdown",
   "metadata": {},
   "source": [
    "### Accumulations in General"
   ]
  },
  {
   "cell_type": "code",
   "execution_count": 3,
   "metadata": {},
   "outputs": [
    {
     "data": {
      "text/plain": [
       "count    1482535.000000\n",
       "mean          26.737516\n",
       "std           38.586066\n",
       "min            0.000000\n",
       "25%           10.000000\n",
       "50%           17.000000\n",
       "75%           29.000000\n",
       "max         2009.000000\n",
       "Name: price, dtype: object"
      ]
     },
     "execution_count": 3,
     "metadata": {},
     "output_type": "execute_result"
    }
   ],
   "source": [
    "price = df[\"price\"]\n",
    "price.describe().apply(lambda x: format(x, 'f'))"
   ]
  },
  {
   "cell_type": "code",
   "execution_count": 4,
   "metadata": {},
   "outputs": [
    {
     "data": {
      "image/png": "[encoded data removed]",
      "text/plain": [
       "<matplotlib.figure.Figure at 0x7f5ad52d23c8>"
      ]
     },
     "metadata": {},
     "output_type": "display_data"
    }
   ],
   "source": [
    "price.hist(log=True, bins=50)\n",
    "plt.title(\"Price/log(number_of_items) Graph\")\n",
    "plt.xlabel(\"price\")\n",
    "plt.ylabel(\"log(number_of_items)\")\n",
    "plt.show()"
   ]
  },
  {
   "cell_type": "markdown",
   "metadata": {},
   "source": [
    "Prices of items are mostly accumulated in the range between 0 to 250 USD."
   ]
  },
  {
   "cell_type": "code",
   "execution_count": 5,
   "metadata": {},
   "outputs": [
    {
     "name": "stdout",
     "output_type": "stream",
     "text": [
      "Number of free items: 874\n"
     ]
    }
   ],
   "source": [
    "zeros = np.where(price==0)\n",
    "print(\"Number of free items: {}\".format(zeros[0].size))"
   ]
  },
  {
   "cell_type": "code",
   "execution_count": 6,
   "metadata": {},
   "outputs": [
    {
     "name": "stdout",
     "output_type": "stream",
     "text": [
      "Most frequent categories:\n"
     ]
    },
    {
     "data": {
      "text/plain": [
       "Women/Athletic Apparel/Pants, Tights, Leggings                 60177\n",
       "Women/Tops & Blouses/T-Shirts                                  46380\n",
       "Beauty/Makeup/Face                                             34335\n",
       "Beauty/Makeup/Lips                                             29910\n",
       "Electronics/Video Games & Consoles/Games                       26557\n",
       "Beauty/Makeup/Eyes                                             25215\n",
       "Electronics/Cell Phones & Accessories/Cases, Covers & Skins    24676\n",
       "Women/Underwear/Bras                                           21274\n",
       "Women/Tops & Blouses/Tank, Cami                                20284\n",
       "Women/Tops & Blouses/Blouse                                    20284\n",
       "Women/Dresses/Above Knee, Mini                                 20082\n",
       "Women/Jewelry/Necklaces                                        19758\n",
       "Women/Athletic Apparel/Shorts                                  19528\n",
       "Beauty/Makeup/Makeup Palettes                                  19103\n",
       "Women/Shoes/Boots                                              18864\n",
       "Beauty/Fragrance/Women                                         18628\n",
       "Beauty/Skin Care/Face                                          15836\n",
       "Women/Women's Handbags/Shoulder Bag                            15328\n",
       "Men/Tops/T-shirts                                              15108\n",
       "Women/Dresses/Knee-Length                                      14770\n",
       "Name: category_name, dtype: int64"
      ]
     },
     "execution_count": 6,
     "metadata": {},
     "output_type": "execute_result"
    }
   ],
   "source": [
    "category_counts = df[\"category_name\"].value_counts()\n",
    "print(\"Most frequent categories:\")\n",
    "category_counts.head(20)"
   ]
  },
  {
   "cell_type": "markdown",
   "metadata": {},
   "source": [
    "Women related categories clearly predominates. Also many categories under beauty shows up. Let's look at first-level categories."
   ]
  },
  {
   "cell_type": "code",
   "execution_count": 7,
   "metadata": {},
   "outputs": [
    {
     "name": "stdout",
     "output_type": "stream",
     "text": [
      "Most frequent first-level categories:\n"
     ]
    },
    {
     "data": {
      "text/plain": [
       "Women                     664385\n",
       "Beauty                    207828\n",
       "Kids                      171689\n",
       "Electronics               122690\n",
       "Men                        93680\n",
       "Home                       67871\n",
       "Vintage & Collectibles     46530\n",
       "Other                      45351\n",
       "Handmade                   30842\n",
       "Sports & Outdoors          25342\n",
       "None                        6327\n",
       "Name: category_name, dtype: int64"
      ]
     },
     "execution_count": 7,
     "metadata": {},
     "output_type": "execute_result"
    }
   ],
   "source": [
    "def first_level_cat(x):\n",
    "    p = re.compile(\"[^/]*\")\n",
    "    try:\n",
    "        return p.match(x).group()\n",
    "    except TypeError:\n",
    "        return \"None\"\n",
    "\n",
    "categories = df.copy(deep=True)\n",
    "first_level_categories = categories[\"category_name\"].apply(first_level_cat)\n",
    "first_level_category_counts = first_level_categories.value_counts()\n",
    "print(\"Most frequent first-level categories:\")\n",
    "first_level_category_counts.head(20)"
   ]
  },
  {
   "cell_type": "markdown",
   "metadata": {},
   "source": [
    "Women category four times frequent than its nearest, which is Beauty, which is also probably mostly women related. We can assume majority of platform users are women."
   ]
  },
  {
   "cell_type": "code",
   "execution_count": 8,
   "metadata": {},
   "outputs": [
    {
     "name": "stdout",
     "output_type": "stream",
     "text": [
      "Item conditions:\n",
      "1: new\n",
      "2: like new\n",
      "3: good\n",
      "4: fair\n",
      "5: poor\n",
      "-----------------------\n",
      "Item condition counts:\n"
     ]
    },
    {
     "data": {
      "text/plain": [
       "1    640549\n",
       "3    432161\n",
       "2    375479\n",
       "4     31962\n",
       "5      2384\n",
       "Name: item_condition_id, dtype: int64"
      ]
     },
     "execution_count": 8,
     "metadata": {},
     "output_type": "execute_result"
    }
   ],
   "source": [
    "item_condition = df[\"item_condition_id\"]\n",
    "print(\"Item conditions:\")\n",
    "print(\"1: new\\n2: like new\\n3: good\\n4: fair\\n5: poor\")\n",
    "print(\"-----------------------\")\n",
    "print(\"Item condition counts:\")\n",
    "item_condition.value_counts()"
   ]
  },
  {
   "cell_type": "code",
   "execution_count": 9,
   "metadata": {},
   "outputs": [
    {
     "data": {
      "image/png": "[encoded data removed]",
      "text/plain": [
       "<matplotlib.figure.Figure at 0x7f5ac56ea668>"
      ]
     },
     "metadata": {},
     "output_type": "display_data"
    },
    {
     "name": "stdout",
     "output_type": "stream",
     "text": [
      "blue: new\n",
      "green: like new\n",
      "orange: good\n",
      "red: fair\n",
      "brown: poor\n"
     ]
    }
   ],
   "source": [
    "condition_colors = ['blue', 'green', 'orange', 'red', 'brown']\n",
    "for i, color in enumerate(condition_colors):\n",
    "    plot_df = df.query('item_condition_id == {}'.format(i+1))\n",
    "    plot_df['price'].hist(log=True, color=color, bins=50)\n",
    "plt.title(\"Price/log(number_of_items) Graph According to Item Conditions\")\n",
    "plt.xlabel(\"price\")\n",
    "plt.ylabel(\"log(number_of_items)\")\n",
    "plt.show()\n",
    "print(\"blue: new\\ngreen: like new\\norange: good\\nred: fair\\nbrown: poor\")"
   ]
  },
  {
   "cell_type": "markdown",
   "metadata": {},
   "source": [
    "From new to poor conditions the longness of the graphs' tail increases. So obviously the better condition one item has, the more expensive it is. Nothing unexpected."
   ]
  },
  {
   "cell_type": "code",
   "execution_count": 10,
   "metadata": {},
   "outputs": [
    {
     "name": "stdout",
     "output_type": "stream",
     "text": [
      "Shipping statuses:\n",
      "1: paid shipping\n",
      "2: non-paid shipping\n",
      "-----------------------\n",
      "Shipping status counts:\n"
     ]
    },
    {
     "data": {
      "text/plain": [
       "0    819435\n",
       "1    663100\n",
       "Name: shipping, dtype: int64"
      ]
     },
     "execution_count": 10,
     "metadata": {},
     "output_type": "execute_result"
    }
   ],
   "source": [
    "shipping_status = df[\"shipping\"]\n",
    "print(\"Shipping statuses:\")\n",
    "print(\"1: paid shipping\\n2: non-paid shipping\")\n",
    "print(\"-----------------------\")\n",
    "print(\"Shipping status counts:\")\n",
    "shipping_status.value_counts()"
   ]
  },
  {
   "cell_type": "code",
   "execution_count": 11,
   "metadata": {},
   "outputs": [
    {
     "data": {
      "image/png": "[encoded data removed]",
      "text/plain": [
       "<matplotlib.figure.Figure at 0x7f5ac548f3c8>"
      ]
     },
     "metadata": {},
     "output_type": "display_data"
    },
    {
     "name": "stdout",
     "output_type": "stream",
     "text": [
      "green: paid shipping\n",
      "red: non-paid shipping\n"
     ]
    }
   ],
   "source": [
    "condition_colors = ['red', 'green']\n",
    "for i, color in enumerate(condition_colors):\n",
    "    plot_df = df.query('shipping == {}'.format(i))\n",
    "    plot_df['price'].hist(log=True, color=color, bins=50, alpha=0.8)\n",
    "plt.title(\"Price/log(number_of_items) Graph According to Shipping Status\")\n",
    "plt.xlabel(\"price\")\n",
    "plt.ylabel(\"log(number_of_items)\")\n",
    "plt.show()\n",
    "print(\"green: paid shipping\\nred: non-paid shipping\")"
   ]
  },
  {
   "cell_type": "markdown",
   "metadata": {},
   "source": [
    "Shipping cost of items costing more than 1250 USD are mostly paid by sellers."
   ]
  },
  {
   "cell_type": "code",
   "execution_count": 12,
   "metadata": {},
   "outputs": [
    {
     "data": {
      "image/png": "[encoded data removed]",
      "text/plain": [
       "<matplotlib.figure.Figure at 0x7f5ac548f668>"
      ]
     },
     "metadata": {},
     "output_type": "display_data"
    },
    {
     "name": "stdout",
     "output_type": "stream",
     "text": [
      "green: paid shipping\n",
      "red: non-paid shipping\n",
      "-----------------------\n",
      "1: new\n",
      "2: like new\n",
      "3: good\n",
      "4: fair\n",
      "5: poor\n"
     ]
    }
   ],
   "source": [
    "condition_colors = ['red', 'green']\n",
    "for i, color in enumerate(condition_colors):\n",
    "    plot_df = df.query('shipping == {}'.format(i))\n",
    "    plot_df['item_condition_id'].hist(log=True, color=color, alpha=0.8)\n",
    "plt.title(\"Item_condition/log(number_of_items) Graph According to Shipping Status\")\n",
    "plt.xlabel(\"item_condition\")\n",
    "plt.ylabel(\"log(number_of_items)\")\n",
    "plt.show()\n",
    "print(\"green: paid shipping\\nred: non-paid shipping\")\n",
    "print(\"-----------------------\")\n",
    "print(\"1: new\\n2: like new\\n3: good\\n4: fair\\n5: poor\")"
   ]
  },
  {
   "cell_type": "code",
   "execution_count": 13,
   "metadata": {},
   "outputs": [
    {
     "name": "stdout",
     "output_type": "stream",
     "text": [
      "Most frequent brands:\n"
     ]
    },
    {
     "data": {
      "text/plain": [
       "PINK                 54088\n",
       "Nike                 54043\n",
       "Victoria's Secret    48036\n",
       "LuLaRoe              31024\n",
       "Apple                17322\n",
       "FOREVER 21           15186\n",
       "Nintendo             15007\n",
       "Lululemon            14558\n",
       "Michael Kors         13928\n",
       "American Eagle       13254\n",
       "Rae Dunn             12305\n",
       "Sephora              12172\n",
       "Coach                10463\n",
       "Disney               10360\n",
       "Bath & Body Works    10354\n",
       "Adidas               10202\n",
       "Funko                 9237\n",
       "Under Armour          8461\n",
       "Sony                  7994\n",
       "Old Navy              7567\n",
       "Name: brand_name, dtype: int64"
      ]
     },
     "execution_count": 13,
     "metadata": {},
     "output_type": "execute_result"
    }
   ],
   "source": [
    "brand_counts = df[\"brand_name\"].value_counts()\n",
    "print(\"Most frequent brands:\")\n",
    "brand_counts.head(20)"
   ]
  },
  {
   "cell_type": "markdown",
   "metadata": {},
   "source": [
    "### Expensiveness"
   ]
  },
  {
   "cell_type": "code",
   "execution_count": 14,
   "metadata": {},
   "outputs": [
    {
     "name": "stdout",
     "output_type": "stream",
     "text": [
      "Most expensive brands according to price mean:\n"
     ]
    },
    {
     "data": {
      "text/plain": [
       "brand_name\n",
       "Demdaco                429.0\n",
       "Auto Meter             344.0\n",
       "Proenza Schouler       315.5\n",
       "Oris                   300.0\n",
       "Longines               254.0\n",
       "Blendtec               250.0\n",
       "Dainese                230.0\n",
       "Frédérique Constant    224.0\n",
       "David Yurman           220.0\n",
       "Vitamix                205.0\n",
       "iRobot                 204.5\n",
       "Alexander Wang         200.0\n",
       "Alyce Paris            200.0\n",
       "Brioni                 200.0\n",
       "Stephen Webster        200.0\n",
       "Contours               200.0\n",
       "Tag Heuer              187.5\n",
       "EVGA                   186.0\n",
       "Mackintosh             185.0\n",
       "Tiffany Designs        182.5\n",
       "dtype: float64"
      ]
     },
     "execution_count": 14,
     "metadata": {},
     "output_type": "execute_result"
    }
   ],
   "source": [
    "def price_median(x, limit=0):\n",
    "    return x[\"price\"].median() if len(x) > limit else 0\n",
    "\n",
    "expensives = df.copy(deep=True)\n",
    "expensive_brands = expensives.groupby(['brand_name'])\n",
    "print(\"Most expensive brands according to price mean:\")\n",
    "expensive_brands.apply(price_median).sort_values(ascending=False).head(20)"
   ]
  },
  {
   "cell_type": "code",
   "execution_count": 15,
   "metadata": {},
   "outputs": [
    {
     "name": "stdout",
     "output_type": "stream",
     "text": [
      "Most expensive and popular (having at least 1000 items listed) brands according to price mean:\n"
     ]
    },
    {
     "data": {
      "text/plain": [
       "brand_name\n",
       "Louis Vuitton          106.0\n",
       "Air Jordan              80.0\n",
       "Tiffany & Co.           70.0\n",
       "Tory Burch              65.0\n",
       "Beats                   64.0\n",
       "Gucci                   64.0\n",
       "Beats by Dr. Dre        60.0\n",
       "Rock Revival            55.0\n",
       "Jordan                  55.0\n",
       "Kendra Scott            52.0\n",
       "Fitbit                  50.0\n",
       "Ray-Ban                 50.0\n",
       "Michael Kors            49.0\n",
       "Kate Spade              46.0\n",
       "UGG Australia           46.0\n",
       "patagonia               45.0\n",
       "Dooney & Bourke         41.0\n",
       "Fuji                    39.0\n",
       "Lululemon               39.0\n",
       "lululemon athletica     39.0\n",
       "dtype: float64"
      ]
     },
     "execution_count": 15,
     "metadata": {},
     "output_type": "execute_result"
    }
   ],
   "source": [
    "limit = 1000\n",
    "print(\"Most expensive and popular (having at least {} items listed) brands according to price mean:\".format(limit))\n",
    "expensive_brands.apply(lambda x: price_median(x, limit=limit)).sort_values(ascending=False).head(20)"
   ]
  },
  {
   "cell_type": "code",
   "execution_count": 16,
   "metadata": {},
   "outputs": [
    {
     "name": "stdout",
     "output_type": "stream",
     "text": [
      "Most expensive categories according to price mean:\n"
     ]
    },
    {
     "data": {
      "text/plain": [
       "category_name\n",
       "Vintage & Collectibles/Antique/Furniture                           195.0\n",
       "Kids/Strollers/Standard                                            145.0\n",
       "Home/Home Appliances/Air Conditioners                              131.0\n",
       "Kids/Strollers/Lightweight                                         105.0\n",
       "Electronics/Computers & Tablets/Laptops & Netbooks                 100.0\n",
       "Sports & Outdoors/Golf/Women's Golf Clubs                          100.0\n",
       "Kids/Strollers/Travel Systems                                       95.0\n",
       "Women/Women's Handbags/Satchel                                      90.0\n",
       "Electronics/Computers & Tablets/Desktops & All-In-Ones              89.5\n",
       "Handmade/Woodworking/Sports                                         86.0\n",
       "Other/Automotive/Oils & Fluids                                      85.0\n",
       "Handmade/Pets/Blanket                                               71.0\n",
       "Electronics/Cameras & Photography/Lenses & Filters                  70.0\n",
       "Men/Sweats & Hoodies/Track & Sweat Suits                            66.0\n",
       "Electronics/Cell Phones & Accessories/Cell Phones & Smartphones     65.0\n",
       "Sports & Outdoors/Golf/Electronics                                  64.0\n",
       "Other/Musical instruments/Wind & Woodwind Instruments               64.0\n",
       "Electronics/Cameras & Photography/Digital Cameras                   61.0\n",
       "Home/Home Appliances/Garbage Disposals                              60.0\n",
       "Home/Bedding/Feather Beds                                           60.0\n",
       "dtype: float64"
      ]
     },
     "execution_count": 16,
     "metadata": {},
     "output_type": "execute_result"
    }
   ],
   "source": [
    "expensive_categories = df.groupby(['category_name'])\n",
    "print(\"Most expensive categories according to price mean:\")\n",
    "expensive_categories.apply(price_median).sort_values(ascending=False).head(20)"
   ]
  },
  {
   "cell_type": "code",
   "execution_count": 17,
   "metadata": {},
   "outputs": [
    {
     "name": "stdout",
     "output_type": "stream",
     "text": [
      "Most expensive first-level categories according to price mean:\n"
     ]
    },
    {
     "data": {
      "text/plain": [
       "category_name\n",
       "Men                       21.0\n",
       "Women                     19.0\n",
       "Home                      18.0\n",
       "Vintage & Collectibles    16.0\n",
       "Sports & Outdoors         16.0\n",
       "None                      16.0\n",
       "Electronics               15.0\n",
       "Beauty                    15.0\n",
       "Other                     14.0\n",
       "Kids                      14.0\n",
       "Handmade                  12.0\n",
       "dtype: float64"
      ]
     },
     "execution_count": 17,
     "metadata": {},
     "output_type": "execute_result"
    }
   ],
   "source": [
    "print(\"Most expensive first-level categories according to price mean:\")\n",
    "categories.groupby(first_level_categories).apply(price_median).sort_values(ascending=False).head(20)"
   ]
  },
  {
   "cell_type": "markdown",
   "metadata": {},
   "source": [
    "### Words inside Item Descriptions"
   ]
  },
  {
   "cell_type": "code",
   "execution_count": 18,
   "metadata": {},
   "outputs": [
    {
     "name": "stdout",
     "output_type": "stream",
     "text": [
      "[nltk_data] Downloading package stopwords to /home/ml/nltk_data...\n",
      "[nltk_data]   Package stopwords is already up-to-date!\n"
     ]
    }
   ],
   "source": [
    "download(\"stopwords\")\n",
    "stop_words = stopwords.words('english')"
   ]
  },
  {
   "cell_type": "markdown",
   "metadata": {},
   "source": [
    "Words are count after removing stop words."
   ]
  },
  {
   "cell_type": "code",
   "execution_count": 19,
   "metadata": {},
   "outputs": [
    {
     "name": "stdout",
     "output_type": "stream",
     "text": [
      "Most frequent words inside item descriptions excluding stop words:\n"
     ]
    },
    {
     "data": {
      "text/plain": [
       "size         396514\n",
       "new          387562\n",
       "brand        250587\n",
       "free         236446\n",
       "[rm]         169715\n",
       "-            156260\n",
       "never        155307\n",
       "shipping     146079\n",
       "great        144576\n",
       "worn         142741\n",
       "used         138352\n",
       "black        126197\n",
       "&            123305\n",
       "price        118677\n",
       "condition    115321\n",
       "2            110028\n",
       "one          109437\n",
       "like         107168\n",
       "please       103482\n",
       "bundle       101203\n",
       "dtype: int64"
      ]
     },
     "execution_count": 19,
     "metadata": {},
     "output_type": "execute_result"
    }
   ],
   "source": [
    "descriptions = df.copy(deep=True)\n",
    "descriptions = descriptions.dropna(subset=[\"item_description\"], how=\"any\")\n",
    "word_list = \" \".join(descriptions[\"item_description\"]).lower().split()\n",
    "print(\"Most frequent words inside item descriptions excluding stop words:\")\n",
    "pd.Series([word if word not in stop_words else None for word in word_list]).value_counts()[:20]"
   ]
  },
  {
   "cell_type": "code",
   "execution_count": null,
   "metadata": {},
   "outputs": [],
   "source": []
  }
 ],
 "metadata": {
  "kernelspec": {
   "display_name": "Python 3",
   "language": "python",
   "name": "python3"
  },
  "language_info": {
   "codemirror_mode": {
    "name": "ipython",
    "version": 3
   },
   "file_extension": ".py",
   "mimetype": "text/x-python",
   "name": "python",
   "nbconvert_exporter": "python",
   "pygments_lexer": "ipython3",
   "version": "3.5.2"
  }
 },
 "nbformat": 4,
 "nbformat_minor": 2
}
