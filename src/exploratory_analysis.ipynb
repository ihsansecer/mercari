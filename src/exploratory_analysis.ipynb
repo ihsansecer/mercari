{
 "cells": [
  {
   "cell_type": "code",
   "execution_count": 1,
   "metadata": {},
   "outputs": [],
   "source": [
    "%matplotlib inline\n",
    "\n",
    "import re\n",
    "from collections import Counter\n",
    "\n",
    "import pandas as pd\n",
    "import numpy as np\n",
    "import matplotlib.pyplot as plt\n",
    "\n",
    "from nltk import download\n",
    "from nltk.corpus import stopwords"
   ]
  },
  {
   "cell_type": "code",
   "execution_count": 2,
   "metadata": {},
   "outputs": [
    {
     "name": "stdout",
     "output_type": "stream",
     "text": [
      "Number of items: 1482535\n"
     ]
    },
    {
     "data": {
      "text/html": [
       "<div>\n",
       "<style scoped>\n",
       "    .dataframe tbody tr th:only-of-type {\n",
       "        vertical-align: middle;\n",
       "    }\n",
       "\n",
       "    .dataframe tbody tr th {\n",
       "        vertical-align: top;\n",
       "    }\n",
       "\n",
       "    .dataframe thead th {\n",
       "        text-align: right;\n",
       "    }\n",
       "</style>\n",
       "<table border=\"1\" class=\"dataframe\">\n",
       "  <thead>\n",
       "    <tr style=\"text-align: right;\">\n",
       "      <th></th>\n",
       "      <th>train_id</th>\n",
       "      <th>name</th>\n",
       "      <th>item_condition_id</th>\n",
       "      <th>category_name</th>\n",
       "      <th>brand_name</th>\n",
       "      <th>price</th>\n",
       "      <th>shipping</th>\n",
       "      <th>item_description</th>\n",
       "    </tr>\n",
       "  </thead>\n",
       "  <tbody>\n",
       "    <tr>\n",
       "      <th>0</th>\n",
       "      <td>0</td>\n",
       "      <td>MLB Cincinnati Reds T Shirt Size XL</td>\n",
       "      <td>3</td>\n",
       "      <td>Men/Tops/T-shirts</td>\n",
       "      <td>NaN</td>\n",
       "      <td>10.0</td>\n",
       "      <td>1</td>\n",
       "      <td>No description yet</td>\n",
       "    </tr>\n",
       "    <tr>\n",
       "      <th>1</th>\n",
       "      <td>1</td>\n",
       "      <td>Razer BlackWidow Chroma Keyboard</td>\n",
       "      <td>3</td>\n",
       "      <td>Electronics/Computers &amp; Tablets/Components &amp; P...</td>\n",
       "      <td>Razer</td>\n",
       "      <td>52.0</td>\n",
       "      <td>0</td>\n",
       "      <td>This keyboard is in great condition and works ...</td>\n",
       "    </tr>\n",
       "    <tr>\n",
       "      <th>2</th>\n",
       "      <td>2</td>\n",
       "      <td>AVA-VIV Blouse</td>\n",
       "      <td>1</td>\n",
       "      <td>Women/Tops &amp; Blouses/Blouse</td>\n",
       "      <td>Target</td>\n",
       "      <td>10.0</td>\n",
       "      <td>1</td>\n",
       "      <td>Adorable top with a hint of lace and a key hol...</td>\n",
       "    </tr>\n",
       "    <tr>\n",
       "      <th>3</th>\n",
       "      <td>3</td>\n",
       "      <td>Leather Horse Statues</td>\n",
       "      <td>1</td>\n",
       "      <td>Home/Home Décor/Home Décor Accents</td>\n",
       "      <td>NaN</td>\n",
       "      <td>35.0</td>\n",
       "      <td>1</td>\n",
       "      <td>New with tags. Leather horses. Retail for [rm]...</td>\n",
       "    </tr>\n",
       "    <tr>\n",
       "      <th>4</th>\n",
       "      <td>4</td>\n",
       "      <td>24K GOLD plated rose</td>\n",
       "      <td>1</td>\n",
       "      <td>Women/Jewelry/Necklaces</td>\n",
       "      <td>NaN</td>\n",
       "      <td>44.0</td>\n",
       "      <td>0</td>\n",
       "      <td>Complete with certificate of authenticity</td>\n",
       "    </tr>\n",
       "  </tbody>\n",
       "</table>\n",
       "</div>"
      ],
      "text/plain": [
       "   train_id                                 name  item_condition_id  \\\n",
       "0         0  MLB Cincinnati Reds T Shirt Size XL                  3   \n",
       "1         1     Razer BlackWidow Chroma Keyboard                  3   \n",
       "2         2                       AVA-VIV Blouse                  1   \n",
       "3         3                Leather Horse Statues                  1   \n",
       "4         4                 24K GOLD plated rose                  1   \n",
       "\n",
       "                                       category_name brand_name  price  \\\n",
       "0                                  Men/Tops/T-shirts        NaN   10.0   \n",
       "1  Electronics/Computers & Tablets/Components & P...      Razer   52.0   \n",
       "2                        Women/Tops & Blouses/Blouse     Target   10.0   \n",
       "3                 Home/Home Décor/Home Décor Accents        NaN   35.0   \n",
       "4                            Women/Jewelry/Necklaces        NaN   44.0   \n",
       "\n",
       "   shipping                                   item_description  \n",
       "0         1                                 No description yet  \n",
       "1         0  This keyboard is in great condition and works ...  \n",
       "2         1  Adorable top with a hint of lace and a key hol...  \n",
       "3         1  New with tags. Leather horses. Retail for [rm]...  \n",
       "4         0          Complete with certificate of authenticity  "
      ]
     },
     "execution_count": 2,
     "metadata": {},
     "output_type": "execute_result"
    }
   ],
   "source": [
    "df = pd.read_csv('../data/train.tsv', sep='\\t')\n",
    "print(\"Number of items: {}\".format(len(df)))\n",
    "df.head()"
   ]
  },
  {
   "cell_type": "code",
   "execution_count": 3,
   "metadata": {},
   "outputs": [],
   "source": [
    "df = df[:200000] # I need the power!"
   ]
  },
  {
   "cell_type": "code",
   "execution_count": 4,
   "metadata": {},
   "outputs": [
    {
     "data": {
      "text/plain": [
       "count    200000.000000\n",
       "mean         26.744937\n",
       "std          38.724400\n",
       "min           0.000000\n",
       "25%          10.000000\n",
       "50%          17.000000\n",
       "75%          29.000000\n",
       "max        1909.000000\n",
       "Name: price, dtype: object"
      ]
     },
     "execution_count": 4,
     "metadata": {},
     "output_type": "execute_result"
    }
   ],
   "source": [
    "price = df[\"price\"]\n",
    "price.describe().apply(lambda x: format(x, 'f'))"
   ]
  },
  {
   "cell_type": "code",
   "execution_count": 5,
   "metadata": {},
   "outputs": [
    {
     "data": {
      "image/png": "[encoded data removed]",
      "text/plain": [
       "<matplotlib.figure.Figure at 0x7f0ae513a9e8>"
      ]
     },
     "metadata": {},
     "output_type": "display_data"
    }
   ],
   "source": [
    "price.hist(log=True, bins=50)\n",
    "plt.title(\"Price/log(number_of_items) Graph\")\n",
    "plt.xlabel(\"price\")\n",
    "plt.ylabel(\"log(number_of_items)\")\n",
    "plt.show()"
   ]
  },
  {
   "cell_type": "code",
   "execution_count": 6,
   "metadata": {},
   "outputs": [
    {
     "name": "stdout",
     "output_type": "stream",
     "text": [
      "Number of free items: 106\n"
     ]
    }
   ],
   "source": [
    "zeros = np.where(price==0)\n",
    "print(\"Number of free items: {}\".format(zeros[0].size))"
   ]
  },
  {
   "cell_type": "code",
   "execution_count": 7,
   "metadata": {},
   "outputs": [
    {
     "name": "stdout",
     "output_type": "stream",
     "text": [
      "Most frequent categories:\n"
     ]
    },
    {
     "data": {
      "text/plain": [
       "Women/Athletic Apparel/Pants, Tights, Leggings                 8003\n",
       "Women/Tops & Blouses/T-Shirts                                  6218\n",
       "Beauty/Makeup/Face                                             4643\n",
       "Beauty/Makeup/Lips                                             4076\n",
       "Electronics/Video Games & Consoles/Games                       3484\n",
       "Electronics/Cell Phones & Accessories/Cases, Covers & Skins    3388\n",
       "Beauty/Makeup/Eyes                                             3384\n",
       "Women/Underwear/Bras                                           2985\n",
       "Women/Tops & Blouses/Tank, Cami                                2774\n",
       "Women/Tops & Blouses/Blouse                                    2761\n",
       "Women/Dresses/Above Knee, Mini                                 2712\n",
       "Women/Jewelry/Necklaces                                        2686\n",
       "Women/Athletic Apparel/Shorts                                  2664\n",
       "Beauty/Makeup/Makeup Palettes                                  2638\n",
       "Beauty/Fragrance/Women                                         2572\n",
       "Women/Shoes/Boots                                              2562\n",
       "Women/Women's Handbags/Shoulder Bag                            2097\n",
       "Men/Tops/T-shirts                                              2062\n",
       "Women/Jewelry/Bracelets                                        2030\n",
       "Beauty/Skin Care/Face                                          2001\n",
       "Name: category_name, dtype: int64"
      ]
     },
     "execution_count": 7,
     "metadata": {},
     "output_type": "execute_result"
    }
   ],
   "source": [
    "category_counts = df[\"category_name\"].value_counts()\n",
    "print(\"Most frequent categories:\")\n",
    "category_counts.head(20)"
   ]
  },
  {
   "cell_type": "code",
   "execution_count": 8,
   "metadata": {},
   "outputs": [
    {
     "name": "stdout",
     "output_type": "stream",
     "text": [
      "Most frequent first-level categories:\n"
     ]
    },
    {
     "data": {
      "text/plain": [
       "Women                     89875\n",
       "Beauty                    28075\n",
       "Kids                      23123\n",
       "Electronics               16455\n",
       "Men                       12699\n",
       "Home                       9102\n",
       "Vintage & Collectibles     6209\n",
       "Other                      6122\n",
       "Handmade                   4119\n",
       "Sports & Outdoors          3369\n",
       "None                        852\n",
       "Name: category_name, dtype: int64"
      ]
     },
     "execution_count": 8,
     "metadata": {},
     "output_type": "execute_result"
    }
   ],
   "source": [
    "def first_level_cat(x):\n",
    "    p = re.compile(\"[^/]*\")\n",
    "    try:\n",
    "        return p.match(x).group()\n",
    "    except TypeError:\n",
    "        return \"None\"\n",
    "\n",
    "categories = df.copy(deep=True)\n",
    "first_level_categories = categories[\"category_name\"].apply(first_level_cat)\n",
    "first_level_category_counts = first_level_categories.value_counts()\n",
    "print(\"Most frequent first-level categories:\")\n",
    "first_level_category_counts.head(20)"
   ]
  },
  {
   "cell_type": "code",
   "execution_count": 9,
   "metadata": {},
   "outputs": [
    {
     "name": "stdout",
     "output_type": "stream",
     "text": [
      "Most frequent brands:\n"
     ]
    },
    {
     "data": {
      "text/plain": [
       "PINK                 7368\n",
       "Nike                 7201\n",
       "Victoria's Secret    6522\n",
       "LuLaRoe              4241\n",
       "Apple                2367\n",
       "Nintendo             2029\n",
       "FOREVER 21           2026\n",
       "Lululemon            1978\n",
       "Michael Kors         1839\n",
       "American Eagle       1805\n",
       "Rae Dunn             1652\n",
       "Sephora              1615\n",
       "Coach                1420\n",
       "Adidas               1398\n",
       "Bath & Body Works    1339\n",
       "Disney               1328\n",
       "Funko                1257\n",
       "Under Armour         1129\n",
       "Sony                 1071\n",
       "Old Navy             1026\n",
       "Name: brand_name, dtype: int64"
      ]
     },
     "execution_count": 9,
     "metadata": {},
     "output_type": "execute_result"
    }
   ],
   "source": [
    "brand_counts = df[\"brand_name\"].value_counts()\n",
    "print(\"Most frequent brands:\")\n",
    "brand_counts.head(20)"
   ]
  },
  {
   "cell_type": "code",
   "execution_count": 10,
   "metadata": {},
   "outputs": [
    {
     "name": "stdout",
     "output_type": "stream",
     "text": [
      "Item conditions:\n",
      "1: new\n",
      "2: like new\n",
      "3: good\n",
      "4: fair\n",
      "5: poor\n",
      "-----------------------\n",
      "Item condition counts:\n"
     ]
    },
    {
     "data": {
      "text/plain": [
       "1    86222\n",
       "3    58301\n",
       "2    50875\n",
       "4     4264\n",
       "5      338\n",
       "Name: item_condition_id, dtype: int64"
      ]
     },
     "execution_count": 10,
     "metadata": {},
     "output_type": "execute_result"
    }
   ],
   "source": [
    "item_condition = df[\"item_condition_id\"]\n",
    "print(\"Item conditions:\")\n",
    "print(\"1: new\\n2: like new\\n3: good\\n4: fair\\n5: poor\")\n",
    "print(\"-----------------------\")\n",
    "print(\"Item condition counts:\")\n",
    "item_condition.value_counts()"
   ]
  },
  {
   "cell_type": "code",
   "execution_count": 11,
   "metadata": {},
   "outputs": [
    {
     "data": {
      "image/png": "[encoded data removed]",
      "text/plain": [
       "<matplotlib.figure.Figure at 0x7f0ae51cbd68>"
      ]
     },
     "metadata": {},
     "output_type": "display_data"
    },
    {
     "name": "stdout",
     "output_type": "stream",
     "text": [
      "blue: new\n",
      "green: like new\n",
      "orange: good\n",
      "red: fair\n",
      "brown: poor\n"
     ]
    }
   ],
   "source": [
    "condition_colors = ['blue', 'green', 'orange', 'red', 'brown']\n",
    "for i, color in enumerate(condition_colors):\n",
    "    plot_df = df.query('item_condition_id == {}'.format(i+1))\n",
    "    plot_df['price'].hist(log=True, color=color, bins=50)\n",
    "plt.title(\"Price/log(number_of_items) Graph According to Item Conditions\")\n",
    "plt.xlabel(\"price\")\n",
    "plt.ylabel(\"log(number_of_items)\")\n",
    "plt.show()\n",
    "print(\"blue: new\\ngreen: like new\\norange: good\\nred: fair\\nbrown: poor\")"
   ]
  },
  {
   "cell_type": "code",
   "execution_count": 12,
   "metadata": {},
   "outputs": [
    {
     "name": "stdout",
     "output_type": "stream",
     "text": [
      "Shipping statuses:\n",
      "1: paid shipping\n",
      "2: non-paid shipping\n",
      "-----------------------\n",
      "Shipping status counts:\n"
     ]
    },
    {
     "data": {
      "text/plain": [
       "0    110596\n",
       "1     89404\n",
       "Name: shipping, dtype: int64"
      ]
     },
     "execution_count": 12,
     "metadata": {},
     "output_type": "execute_result"
    }
   ],
   "source": [
    "shipping_status = df[\"shipping\"]\n",
    "print(\"Shipping statuses:\")\n",
    "print(\"1: paid shipping\\n2: non-paid shipping\")\n",
    "print(\"-----------------------\")\n",
    "print(\"Shipping status counts:\")\n",
    "shipping_status.value_counts()"
   ]
  },
  {
   "cell_type": "code",
   "execution_count": 13,
   "metadata": {},
   "outputs": [
    {
     "data": {
      "image/png": "[encoded data removed]",
      "text/plain": [
       "<matplotlib.figure.Figure at 0x7f0ae36202b0>"
      ]
     },
     "metadata": {},
     "output_type": "display_data"
    },
    {
     "name": "stdout",
     "output_type": "stream",
     "text": [
      "green: paid shipping\n",
      "red: non-paid shipping\n"
     ]
    }
   ],
   "source": [
    "condition_colors = ['red', 'green']\n",
    "for i, color in enumerate(condition_colors):\n",
    "    plot_df = df.query('shipping == {}'.format(i))\n",
    "    plot_df['price'].hist(log=True, color=color, bins=50, alpha=0.8)\n",
    "plt.title(\"Price/log(number_of_items) Graph According to Shipping Status\")\n",
    "plt.xlabel(\"price\")\n",
    "plt.ylabel(\"log(number_of_items)\")\n",
    "plt.show()\n",
    "print(\"green: paid shipping\\nred: non-paid shipping\")"
   ]
  },
  {
   "cell_type": "code",
   "execution_count": 14,
   "metadata": {},
   "outputs": [
    {
     "name": "stdout",
     "output_type": "stream",
     "text": [
      "Most expensive brands according to price mean:\n"
     ]
    },
    {
     "data": {
      "text/plain": [
       "brand_name\n",
       "Sanyo                  874.0\n",
       "Céline                 457.5\n",
       "Chloé                  368.5\n",
       "Samsung Galaxy         276.0\n",
       "Terani Couture         259.0\n",
       "Vitamix                252.5\n",
       "Derek Lam              244.0\n",
       "David Yurman           225.5\n",
       "Alexander Wang         224.0\n",
       "Tag Heuer              219.0\n",
       "Mackintosh             209.5\n",
       "GoPro                  208.0\n",
       "Celine                 204.5\n",
       "Alyce Paris            200.0\n",
       "Bottega Veneta         185.5\n",
       "Mac Duggal             182.0\n",
       "Rihanna                181.0\n",
       "Giuseppe Zanotti       173.0\n",
       "Saint Laurent          170.5\n",
       "Christian Louboutin    166.0\n",
       "dtype: float64"
      ]
     },
     "execution_count": 14,
     "metadata": {},
     "output_type": "execute_result"
    }
   ],
   "source": [
    "def price_median(x, limit=0):\n",
    "    return x[\"price\"].median() if len(x) > limit else 0\n",
    "\n",
    "expensives = df.copy(deep=True)\n",
    "expensive_brands = expensives.groupby(['brand_name'])\n",
    "print(\"Most expensive brands according to price mean:\")\n",
    "expensive_brands.apply(price_median).sort_values(ascending=False).head(20)"
   ]
  },
  {
   "cell_type": "code",
   "execution_count": 15,
   "metadata": {},
   "outputs": [
    {
     "name": "stdout",
     "output_type": "stream",
     "text": [
      "Most expensive and popular (having at least 1000 items listed) brands according to price mean:\n"
     ]
    },
    {
     "data": {
      "text/plain": [
       "brand_name\n",
       "Michael Kors         47.0\n",
       "Lululemon            39.0\n",
       "Coach                31.0\n",
       "Rae Dunn             31.0\n",
       "LuLaRoe              29.0\n",
       "Adidas               25.0\n",
       "Nike                 22.0\n",
       "Funko                21.0\n",
       "Apple                21.0\n",
       "Sony                 20.0\n",
       "PINK                 20.0\n",
       "Nintendo             20.0\n",
       "Victoria's Secret    19.0\n",
       "Under Armour         16.0\n",
       "Sephora              16.0\n",
       "Bath & Body Works    15.0\n",
       "American Eagle       14.0\n",
       "Disney               13.0\n",
       "FOREVER 21           12.0\n",
       "Old Navy             11.0\n",
       "dtype: float64"
      ]
     },
     "execution_count": 15,
     "metadata": {},
     "output_type": "execute_result"
    }
   ],
   "source": [
    "limit = 1000\n",
    "print(\"Most expensive and popular (having at least {} items listed) brands according to price mean:\".format(limit))\n",
    "expensive_brands.apply(lambda x: price_median(x, limit=limit)).sort_values(ascending=False).head(20)"
   ]
  },
  {
   "cell_type": "code",
   "execution_count": 16,
   "metadata": {},
   "outputs": [
    {
     "name": "stdout",
     "output_type": "stream",
     "text": [
      "Most expensive categories according to price mean:\n"
     ]
    },
    {
     "data": {
      "text/plain": [
       "category_name\n",
       "Vintage & Collectibles/Antique/Furniture                         195.0\n",
       "Vintage & Collectibles/Bags and Purses/Formal                    159.0\n",
       "Kids/Strollers/Standard                                          150.0\n",
       "Electronics/Cameras & Photography/Flashes & Flash Accessories    141.0\n",
       "Other/Musical instruments/DJ, Electronic Music & Karaoke         110.0\n",
       "Home/Kids' Home Store/Nursery Bedding                            109.0\n",
       "Vintage & Collectibles/Trading Cards/Comic                       107.0\n",
       "Home/Home Appliances/Air Conditioners                            103.5\n",
       "Electronics/Computers & Tablets/Laptops & Netbooks                95.0\n",
       "Kids/Strollers/Travel Systems                                     95.0\n",
       "Other/Musical instruments/Bass Guitars                            92.0\n",
       "Women/Women's Handbags/Satchel                                    91.0\n",
       "Handmade/Dolls and Miniatures/Fantasy                             89.0\n",
       "Home/Furniture/Home Entertainment Furniture                       85.0\n",
       "Electronics/Computers & Tablets/Desktops & All-In-Ones            80.0\n",
       "Vintage & Collectibles/Serving/Bowl                               79.0\n",
       "Handmade/Crochet/Afghan                                           76.0\n",
       "Handmade/Clothing/Dress                                           75.0\n",
       "Other/Musical instruments/Wind & Woodwind Instruments             75.0\n",
       "Other/Books/Engineering & Transportation                          71.0\n",
       "dtype: float64"
      ]
     },
     "execution_count": 16,
     "metadata": {},
     "output_type": "execute_result"
    }
   ],
   "source": [
    "expensive_categories = df.groupby(['category_name'])\n",
    "print(\"Most expensive categories according to price mean:\")\n",
    "expensive_categories.apply(price_median).sort_values(ascending=False).head(20)"
   ]
  },
  {
   "cell_type": "code",
   "execution_count": 17,
   "metadata": {},
   "outputs": [
    {
     "name": "stdout",
     "output_type": "stream",
     "text": [
      "Most expensive first-level categories according to price mean:\n"
     ]
    },
    {
     "data": {
      "text/plain": [
       "category_name\n",
       "Men                       21.0\n",
       "Women                     19.0\n",
       "None                      18.0\n",
       "Home                      18.0\n",
       "Sports & Outdoors         17.0\n",
       "Vintage & Collectibles    16.0\n",
       "Electronics               15.0\n",
       "Beauty                    15.0\n",
       "Kids                      14.0\n",
       "Other                     13.0\n",
       "Handmade                  12.0\n",
       "dtype: float64"
      ]
     },
     "execution_count": 17,
     "metadata": {},
     "output_type": "execute_result"
    }
   ],
   "source": [
    "print(\"Most expensive first-level categories according to price mean:\")\n",
    "categories.groupby(first_level_categories).apply(price_median).sort_values(ascending=False).head(20)"
   ]
  },
  {
   "cell_type": "code",
   "execution_count": 18,
   "metadata": {},
   "outputs": [
    {
     "data": {
      "image/png": "[encoded data removed]",
      "text/plain": [
       "<matplotlib.figure.Figure at 0x7f0ae3620390>"
      ]
     },
     "metadata": {},
     "output_type": "display_data"
    },
    {
     "name": "stdout",
     "output_type": "stream",
     "text": [
      "green: paid shipping\n",
      "red: non-paid shipping\n",
      "-----------------------\n",
      "1: new\n",
      "2: like new\n",
      "3: good\n",
      "4: fair\n",
      "5: poor\n"
     ]
    }
   ],
   "source": [
    "condition_colors = ['red', 'green']\n",
    "for i, color in enumerate(condition_colors):\n",
    "    plot_df = df.query('shipping == {}'.format(i))\n",
    "    plot_df['item_condition_id'].hist(log=True, color=color, alpha=0.8)\n",
    "plt.title(\"Item_condition/log(number_of_items) Graph According to Shipping Status\")\n",
    "plt.xlabel(\"item_condition\")\n",
    "plt.ylabel(\"log(number_of_items)\")\n",
    "plt.show()\n",
    "print(\"green: paid shipping\\nred: non-paid shipping\")\n",
    "print(\"-----------------------\")\n",
    "print(\"1: new\\n2: like new\\n3: good\\n4: fair\\n5: poor\")"
   ]
  },
  {
   "cell_type": "code",
   "execution_count": 19,
   "metadata": {},
   "outputs": [
    {
     "name": "stdout",
     "output_type": "stream",
     "text": [
      "[nltk_data] Downloading package stopwords to /home/ihsan/nltk_data...\n",
      "[nltk_data]   Package stopwords is already up-to-date!\n"
     ]
    }
   ],
   "source": [
    "download(\"stopwords\")\n",
    "stop_words = stopwords.words('english')"
   ]
  },
  {
   "cell_type": "code",
   "execution_count": 20,
   "metadata": {},
   "outputs": [
    {
     "name": "stdout",
     "output_type": "stream",
     "text": [
      "Most frequent words inside item descriptions excluding stop words:\n"
     ]
    },
    {
     "data": {
      "text/plain": [
       "size         53547\n",
       "new          52315\n",
       "brand        33662\n",
       "free         32071\n",
       "[rm]         22997\n",
       "never        21231\n",
       "-            20818\n",
       "shipping     19591\n",
       "worn         19513\n",
       "great        19358\n",
       "used         18607\n",
       "&            16802\n",
       "black        16732\n",
       "price        16064\n",
       "condition    15717\n",
       "one          14813\n",
       "2            14728\n",
       "like         14413\n",
       "please       14084\n",
       "bundle       13698\n",
       "dtype: int64"
      ]
     },
     "execution_count": 20,
     "metadata": {},
     "output_type": "execute_result"
    }
   ],
   "source": [
    "descriptions = df.copy(deep=True)\n",
    "descriptions = descriptions.dropna(subset=[\"item_description\"], how=\"any\")\n",
    "word_list = \" \".join(descriptions[\"item_description\"]).lower().split()\n",
    "print(\"Most frequent words inside item descriptions excluding stop words:\")\n",
    "pd.Series([x if x not in stop_words else None for x in word_list]).value_counts()[:20]"
   ]
  },
  {
   "cell_type": "code",
   "execution_count": null,
   "metadata": {},
   "outputs": [],
   "source": []
  }
 ],
 "metadata": {
  "kernelspec": {
   "display_name": "mercari",
   "language": "python",
   "name": "mercari"
  },
  "language_info": {
   "codemirror_mode": {
    "name": "ipython",
    "version": 3
   },
   "file_extension": ".py",
   "mimetype": "text/x-python",
   "name": "python",
   "nbconvert_exporter": "python",
   "pygments_lexer": "ipython3",
   "version": "3.5.2"
  }
 },
 "nbformat": 4,
 "nbformat_minor": 2
}
