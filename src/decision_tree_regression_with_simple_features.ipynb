{
 "cells": [
  {
   "cell_type": "markdown",
   "metadata": {},
   "source": [
    "# Decision Tree Regression with Simple Features"
   ]
  },
  {
   "cell_type": "markdown",
   "metadata": {},
   "source": [
    "The reason why extracted features are so simple is limited computing power. Despite the fact that I am using a cloud platform's virtual machine having 32 gb memory, it easily runs out of memory because of text-based features of 2 millon items amounting 500 megabytes."
   ]
  },
  {
   "cell_type": "code",
   "execution_count": 1,
   "metadata": {},
   "outputs": [],
   "source": [
    "import math\n",
    "\n",
    "import pandas as pd\n",
    "\n",
    "from sklearn.tree import DecisionTreeRegressor\n",
    "from sklearn.model_selection import cross_val_predict, GridSearchCV\n",
    "from sklearn.metrics import make_scorer\n",
    "from nltk import download\n",
    "from nltk.corpus import stopwords"
   ]
  },
  {
   "cell_type": "code",
   "execution_count": 2,
   "metadata": {},
   "outputs": [
    {
     "name": "stdout",
     "output_type": "stream",
     "text": [
      "Number of items in test set: 693359\n",
      "Number of items in training set: 1482535\n"
     ]
    }
   ],
   "source": [
    "df_test = pd.read_csv('../data/test.tsv', sep='\\t')\n",
    "test_count = len(df_test)\n",
    "print(\"Number of items in test set: {}\".format(test_count))\n",
    "\n",
    "df_train = pd.read_csv('../data/train.tsv', sep='\\t')\n",
    "train_count = len(df_train)\n",
    "print(\"Number of items in training set: {}\".format(train_count))"
   ]
  },
  {
   "cell_type": "markdown",
   "metadata": {},
   "source": [
    "## Preparing Data"
   ]
  },
  {
   "cell_type": "code",
   "execution_count": 3,
   "metadata": {},
   "outputs": [
    {
     "data": {
      "text/html": [
       "<div>\n",
       "<style scoped>\n",
       "    .dataframe tbody tr th:only-of-type {\n",
       "        vertical-align: middle;\n",
       "    }\n",
       "\n",
       "    .dataframe tbody tr th {\n",
       "        vertical-align: top;\n",
       "    }\n",
       "\n",
       "    .dataframe thead th {\n",
       "        text-align: right;\n",
       "    }\n",
       "</style>\n",
       "<table border=\"1\" class=\"dataframe\">\n",
       "  <thead>\n",
       "    <tr style=\"text-align: right;\">\n",
       "      <th></th>\n",
       "      <th>brand_name</th>\n",
       "      <th>category_name</th>\n",
       "      <th>item_condition_id</th>\n",
       "      <th>item_description</th>\n",
       "      <th>name</th>\n",
       "      <th>shipping</th>\n",
       "      <th>test_id</th>\n",
       "      <th>train_id</th>\n",
       "    </tr>\n",
       "  </thead>\n",
       "  <tbody>\n",
       "    <tr>\n",
       "      <th>0</th>\n",
       "      <td>NaN</td>\n",
       "      <td>Men/Tops/T-shirts</td>\n",
       "      <td>3</td>\n",
       "      <td>No description yet</td>\n",
       "      <td>MLB Cincinnati Reds T Shirt Size XL</td>\n",
       "      <td>1</td>\n",
       "      <td>NaN</td>\n",
       "      <td>0.0</td>\n",
       "    </tr>\n",
       "    <tr>\n",
       "      <th>1</th>\n",
       "      <td>Razer</td>\n",
       "      <td>Electronics/Computers &amp; Tablets/Components &amp; P...</td>\n",
       "      <td>3</td>\n",
       "      <td>This keyboard is in great condition and works ...</td>\n",
       "      <td>Razer BlackWidow Chroma Keyboard</td>\n",
       "      <td>0</td>\n",
       "      <td>NaN</td>\n",
       "      <td>1.0</td>\n",
       "    </tr>\n",
       "    <tr>\n",
       "      <th>2</th>\n",
       "      <td>Target</td>\n",
       "      <td>Women/Tops &amp; Blouses/Blouse</td>\n",
       "      <td>1</td>\n",
       "      <td>Adorable top with a hint of lace and a key hol...</td>\n",
       "      <td>AVA-VIV Blouse</td>\n",
       "      <td>1</td>\n",
       "      <td>NaN</td>\n",
       "      <td>2.0</td>\n",
       "    </tr>\n",
       "    <tr>\n",
       "      <th>3</th>\n",
       "      <td>NaN</td>\n",
       "      <td>Home/Home Décor/Home Décor Accents</td>\n",
       "      <td>1</td>\n",
       "      <td>New with tags. Leather horses. Retail for [rm]...</td>\n",
       "      <td>Leather Horse Statues</td>\n",
       "      <td>1</td>\n",
       "      <td>NaN</td>\n",
       "      <td>3.0</td>\n",
       "    </tr>\n",
       "    <tr>\n",
       "      <th>4</th>\n",
       "      <td>NaN</td>\n",
       "      <td>Women/Jewelry/Necklaces</td>\n",
       "      <td>1</td>\n",
       "      <td>Complete with certificate of authenticity</td>\n",
       "      <td>24K GOLD plated rose</td>\n",
       "      <td>0</td>\n",
       "      <td>NaN</td>\n",
       "      <td>4.0</td>\n",
       "    </tr>\n",
       "  </tbody>\n",
       "</table>\n",
       "</div>"
      ],
      "text/plain": [
       "  brand_name                                      category_name  \\\n",
       "0        NaN                                  Men/Tops/T-shirts   \n",
       "1      Razer  Electronics/Computers & Tablets/Components & P...   \n",
       "2     Target                        Women/Tops & Blouses/Blouse   \n",
       "3        NaN                 Home/Home Décor/Home Décor Accents   \n",
       "4        NaN                            Women/Jewelry/Necklaces   \n",
       "\n",
       "   item_condition_id                                   item_description  \\\n",
       "0                  3                                 No description yet   \n",
       "1                  3  This keyboard is in great condition and works ...   \n",
       "2                  1  Adorable top with a hint of lace and a key hol...   \n",
       "3                  1  New with tags. Leather horses. Retail for [rm]...   \n",
       "4                  1          Complete with certificate of authenticity   \n",
       "\n",
       "                                  name  shipping  test_id  train_id  \n",
       "0  MLB Cincinnati Reds T Shirt Size XL         1      NaN       0.0  \n",
       "1     Razer BlackWidow Chroma Keyboard         0      NaN       1.0  \n",
       "2                       AVA-VIV Blouse         1      NaN       2.0  \n",
       "3                Leather Horse Statues         1      NaN       3.0  \n",
       "4                 24K GOLD plated rose         0      NaN       4.0  "
      ]
     },
     "execution_count": 3,
     "metadata": {},
     "output_type": "execute_result"
    }
   ],
   "source": [
    "y_train = df_train[\"price\"]\n",
    "df_combined = df_train.append(df_test).drop(\"price\", axis=1)\n",
    "df_combined.head()"
   ]
  },
  {
   "cell_type": "code",
   "execution_count": 4,
   "metadata": {},
   "outputs": [
    {
     "data": {
      "text/plain": [
       "brand_name            True\n",
       "category_name         True\n",
       "item_condition_id    False\n",
       "item_description      True\n",
       "name                 False\n",
       "shipping             False\n",
       "test_id               True\n",
       "train_id              True\n",
       "dtype: bool"
      ]
     },
     "execution_count": 4,
     "metadata": {},
     "output_type": "execute_result"
    }
   ],
   "source": [
    "df_combined.isnull().any()"
   ]
  },
  {
   "cell_type": "markdown",
   "metadata": {},
   "source": [
    "Filled null values for attributes having string type to handle errors during preprocessing"
   ]
  },
  {
   "cell_type": "code",
   "execution_count": 5,
   "metadata": {},
   "outputs": [],
   "source": [
    "df_combined[\"brand_name\"].fillna(value=\"none\", inplace=True)\n",
    "df_combined[\"category_name\"].fillna(value=\"none\", inplace=True)\n",
    "df_combined[\"name\"].fillna(value=\"none\", inplace=True)\n",
    "df_combined[\"item_description\"].fillna(value=\"none\", inplace=True)"
   ]
  },
  {
   "cell_type": "markdown",
   "metadata": {},
   "source": [
    "## Feature extraction"
   ]
  },
  {
   "cell_type": "markdown",
   "metadata": {},
   "source": [
    "Separate first two levels of categories to obtain new features (\"1category\" and \"1category\" instead of \"1category/2category/3category/4category\"). Not most items has third and forth levels of categories. Thus number of levels are limited to two. "
   ]
  },
  {
   "cell_type": "code",
   "execution_count": 6,
   "metadata": {},
   "outputs": [],
   "source": [
    "def level_cat(x, level=1):\n",
    "    try:\n",
    "        levels = x.split(\"/\")\n",
    "        return levels[level]\n",
    "    except IndexError:\n",
    "        return None\n",
    "    except AttributeError:\n",
    "        return None\n",
    "\n",
    "for i in range(2):\n",
    "    df_combined[\"{}_level_cat\".format(i+1)] = df_combined[\"category_name\"].apply(lambda x: level_cat(x, level=i+1))"
   ]
  },
  {
   "cell_type": "markdown",
   "metadata": {},
   "source": [
    "Dowloaded and then removed stopwords from both description and name of item. Features for them are only lengths. Tried to use text extraction classes of Scikit-learn (TF-IDF) but run out of memory."
   ]
  },
  {
   "cell_type": "code",
   "execution_count": 7,
   "metadata": {},
   "outputs": [
    {
     "name": "stdout",
     "output_type": "stream",
     "text": [
      "[nltk_data] Downloading package stopwords to /home/ml/nltk_data...\n",
      "[nltk_data]   Package stopwords is already up-to-date!\n"
     ]
    }
   ],
   "source": [
    "download(\"stopwords\")\n",
    "stop_words = stopwords.words('english')"
   ]
  },
  {
   "cell_type": "code",
   "execution_count": 8,
   "metadata": {},
   "outputs": [],
   "source": [
    "word_count = lambda text: len([word for word in text.split(\" \") if word not in stop_words])\n",
    "\n",
    "df_combined[\"name_len\"] = df_combined[\"name\"].apply(word_count)\n",
    "df_combined[\"description_len\"] = df_combined[\"item_description\"].apply(word_count)"
   ]
  },
  {
   "cell_type": "markdown",
   "metadata": {},
   "source": [
    "Encode labels (does same thing as LabelEncoder) of \"1_level_cat\", \"2_level_cat\", \"category_name\" and \"brand_name\". Cannot use one hot encoding since it produces thousands of features and raise MemoryError."
   ]
  },
  {
   "cell_type": "code",
   "execution_count": 9,
   "metadata": {},
   "outputs": [],
   "source": [
    "df_combined = df_combined.drop([\"name\", \"item_description\"], axis=1)\n",
    "categories = [\"1_level_cat\", \"2_level_cat\", \"category_name\", \"brand_name\"]\n",
    "for category in categories:\n",
    "    df_combined[category] = df_combined[category].astype('category')\n",
    "\n",
    "categorical_columns = df_combined.select_dtypes(['category']).columns\n",
    "df_combined[categorical_columns] = df_combined[categorical_columns].apply(lambda x: x.cat.codes)"
   ]
  },
  {
   "cell_type": "markdown",
   "metadata": {},
   "source": [
    "Split combined data for training and prediction."
   ]
  },
  {
   "cell_type": "code",
   "execution_count": 10,
   "metadata": {},
   "outputs": [
    {
     "name": "stdout",
     "output_type": "stream",
     "text": [
      "X_train shape: (1482535, 8)\n",
      "y_train shape: (1482535,)\n",
      "X_test shape: (693359, 8)\n",
      "----------------------------\n",
      "Last version of X_train:\n"
     ]
    },
    {
     "data": {
      "text/html": [
       "<div>\n",
       "<style scoped>\n",
       "    .dataframe tbody tr th:only-of-type {\n",
       "        vertical-align: middle;\n",
       "    }\n",
       "\n",
       "    .dataframe tbody tr th {\n",
       "        vertical-align: top;\n",
       "    }\n",
       "\n",
       "    .dataframe thead th {\n",
       "        text-align: right;\n",
       "    }\n",
       "</style>\n",
       "<table border=\"1\" class=\"dataframe\">\n",
       "  <thead>\n",
       "    <tr style=\"text-align: right;\">\n",
       "      <th></th>\n",
       "      <th>brand_name</th>\n",
       "      <th>category_name</th>\n",
       "      <th>item_condition_id</th>\n",
       "      <th>shipping</th>\n",
       "      <th>1_level_cat</th>\n",
       "      <th>2_level_cat</th>\n",
       "      <th>name_len</th>\n",
       "      <th>description_len</th>\n",
       "    </tr>\n",
       "  </thead>\n",
       "  <tbody>\n",
       "    <tr>\n",
       "      <th>0</th>\n",
       "      <td>5268</td>\n",
       "      <td>829</td>\n",
       "      <td>3</td>\n",
       "      <td>1</td>\n",
       "      <td>102</td>\n",
       "      <td>773</td>\n",
       "      <td>7</td>\n",
       "      <td>3</td>\n",
       "    </tr>\n",
       "    <tr>\n",
       "      <th>1</th>\n",
       "      <td>3889</td>\n",
       "      <td>86</td>\n",
       "      <td>3</td>\n",
       "      <td>0</td>\n",
       "      <td>30</td>\n",
       "      <td>215</td>\n",
       "      <td>4</td>\n",
       "      <td>21</td>\n",
       "    </tr>\n",
       "    <tr>\n",
       "      <th>2</th>\n",
       "      <td>4588</td>\n",
       "      <td>1277</td>\n",
       "      <td>1</td>\n",
       "      <td>1</td>\n",
       "      <td>103</td>\n",
       "      <td>97</td>\n",
       "      <td>2</td>\n",
       "      <td>16</td>\n",
       "    </tr>\n",
       "    <tr>\n",
       "      <th>3</th>\n",
       "      <td>5268</td>\n",
       "      <td>503</td>\n",
       "      <td>1</td>\n",
       "      <td>1</td>\n",
       "      <td>55</td>\n",
       "      <td>410</td>\n",
       "      <td>3</td>\n",
       "      <td>22</td>\n",
       "    </tr>\n",
       "    <tr>\n",
       "      <th>4</th>\n",
       "      <td>5268</td>\n",
       "      <td>1204</td>\n",
       "      <td>1</td>\n",
       "      <td>0</td>\n",
       "      <td>58</td>\n",
       "      <td>542</td>\n",
       "      <td>4</td>\n",
       "      <td>3</td>\n",
       "    </tr>\n",
       "  </tbody>\n",
       "</table>\n",
       "</div>"
      ],
      "text/plain": [
       "   brand_name  category_name  item_condition_id  shipping  1_level_cat  \\\n",
       "0        5268            829                  3         1          102   \n",
       "1        3889             86                  3         0           30   \n",
       "2        4588           1277                  1         1          103   \n",
       "3        5268            503                  1         1           55   \n",
       "4        5268           1204                  1         0           58   \n",
       "\n",
       "   2_level_cat  name_len  description_len  \n",
       "0          773         7                3  \n",
       "1          215         4               21  \n",
       "2           97         2               16  \n",
       "3          410         3               22  \n",
       "4          542         4                3  "
      ]
     },
     "execution_count": 10,
     "metadata": {},
     "output_type": "execute_result"
    }
   ],
   "source": [
    "id_columns = [\"test_id\", \"train_id\"]\n",
    "\n",
    "X_train_id, X_test_id = df_combined[:-test_count], df_combined[train_count:]\n",
    "X_train = X_train_id.drop(id_columns, axis=1)\n",
    "X_test = X_test_id.drop(id_columns, axis=1)\n",
    "\n",
    "print(\"X_train shape: {}\".format(X_train.shape))\n",
    "print(\"y_train shape: {}\".format(y_train.shape))\n",
    "print(\"X_test shape: {}\".format(X_test.shape))\n",
    "print(\"----------------------------\")\n",
    "print(\"Last version of X_train:\")\n",
    "X_train.head()"
   ]
  },
  {
   "cell_type": "markdown",
   "metadata": {},
   "source": [
    "## Train and Fine-tune Decision Tree Regressor"
   ]
  },
  {
   "cell_type": "code",
   "execution_count": 11,
   "metadata": {},
   "outputs": [],
   "source": [
    "def gridsearchcv_report(predictor):\n",
    "    print(\"Best parameters: {}\".format(regr.best_params_))\n",
    "    print(\"Best score: {}\".format(regr.best_score_))"
   ]
  },
  {
   "cell_type": "code",
   "execution_count": 12,
   "metadata": {},
   "outputs": [],
   "source": [
    "def rmsle(y_true, y_pred):\n",
    "    \"\"\"\n",
    "    Modified version of function on https://www.kaggle.com/marknagelberg/rmsle-function\n",
    "    Reason of modification: It was not working with GridSearchCV\n",
    "    \"\"\"\n",
    "    terms_to_sum = [(math.log(yp + 1) - math.log(yt + 1)) ** 2.0 for yp ,yt in zip(y_pred, y_true)]\n",
    "    return (sum(terms_to_sum) * (1.0/len(y_true))) ** 0.5"
   ]
  },
  {
   "cell_type": "markdown",
   "metadata": {},
   "source": [
    "Use GridSearchCV to find out which regularization parameters fit best. Used 5 fold cross validation to speed up training. Used root mean squared logarithmic error since it is the evaluation metric for the competition."
   ]
  },
  {
   "cell_type": "code",
   "execution_count": 13,
   "metadata": {},
   "outputs": [],
   "source": [
    "rmsle_scorer = make_scorer(rmsle,greater_is_better=False)"
   ]
  },
  {
   "cell_type": "code",
   "execution_count": 14,
   "metadata": {},
   "outputs": [
    {
     "name": "stdout",
     "output_type": "stream",
     "text": [
      "Best parameters: {'max_depth': None, 'min_samples_split': 3, 'max_leaf_nodes': None, 'min_samples_leaf': 34}\n",
      "Best score: -0.6089151877023106\n"
     ]
    }
   ],
   "source": [
    "hyperparameters = {\"max_depth\": [None, 5, 15, 45],\n",
    "                   \"min_samples_split\": [1., 3, 9],\n",
    "                   \"min_samples_leaf\": [6, 18, 34],\n",
    "                   \"max_leaf_nodes\": [None, 5, 15, 45]}\n",
    "\n",
    "regr = GridSearchCV(DecisionTreeRegressor(random_state=42), hyperparameters, cv=5, scoring=rmsle_scorer)\n",
    "regr.fit(X_train, y_train)\n",
    "gridsearchcv_report(regr)"
   ]
  },
  {
   "cell_type": "markdown",
   "metadata": {},
   "source": [
    "Tried regularization parameters closer to previous run. Used 20%, 40% above and below. If the number is smaller and don't round up to a different number add and subtract 1. If None is the best don't try values for same parameter again."
   ]
  },
  {
   "cell_type": "code",
   "execution_count": 15,
   "metadata": {},
   "outputs": [
    {
     "name": "stdout",
     "output_type": "stream",
     "text": [
      "Best parameters: {'min_samples_split': 2, 'min_samples_leaf': 34}\n",
      "Best score: -0.6089151877023106\n"
     ]
    }
   ],
   "source": [
    "bp = regr.best_params_\n",
    "get_close_hyp = lambda x: [x-round(x*0.4), x-round(x*0.2), x, x+round(x*0.2), x+round(x*0.4)]\n",
    "\n",
    "hyperparameters = {}\n",
    "for p in bp:\n",
    "    if not bp[p]:\n",
    "        continue\n",
    "    close_hyp = get_close_hyp(bp[p])\n",
    "    if not close_hyp[1:] == close_hyp[:-1]:\n",
    "        hyperparameters[p] = close_hyp\n",
    "    else:\n",
    "        val = close_hyp[0]\n",
    "        hyperparameters[p] = [val-1, val, val+1]\n",
    "\n",
    "regr = GridSearchCV(DecisionTreeRegressor(random_state=42), hyperparameters, cv=5, scoring=rmsle_scorer)\n",
    "regr.fit(X_train, y_train)\n",
    "gridsearchcv_report(regr)"
   ]
  },
  {
   "cell_type": "markdown",
   "metadata": {},
   "source": [
    "Calculated RMSLE using 10 fold cross validation."
   ]
  },
  {
   "cell_type": "code",
   "execution_count": 16,
   "metadata": {},
   "outputs": [
    {
     "data": {
      "text/plain": [
       "0.6120178163429827"
      ]
     },
     "execution_count": 16,
     "metadata": {},
     "output_type": "execute_result"
    }
   ],
   "source": [
    "y_pred = cross_val_predict(regr.best_estimator_, X_train, y_train)\n",
    "rmsle(y_train, y_pred)"
   ]
  },
  {
   "cell_type": "markdown",
   "metadata": {},
   "source": [
    "Predicted prices for test data and make predictions ready to submit on Kaggle competition."
   ]
  },
  {
   "cell_type": "code",
   "execution_count": 17,
   "metadata": {},
   "outputs": [],
   "source": [
    "regr.best_estimator_.fit(X_train, y_train)\n",
    "y_pred = regr.best_estimator_.predict(X_test)"
   ]
  },
  {
   "cell_type": "code",
   "execution_count": 18,
   "metadata": {},
   "outputs": [],
   "source": [
    "submission = pd.DataFrame({\"price\":y_pred.tolist()})\n",
    "submission[\"test_id\"] = submission.index\n",
    "cols = submission.columns.tolist()\n",
    "cols = [cols[-1] , cols[0]]\n",
    "submission = submission[cols]\n",
    "submission.to_csv(\"../data/submisson.csv\", index=False)"
   ]
  },
  {
   "cell_type": "markdown",
   "metadata": {},
   "source": [
    "Obtained 0.60621 RMSLE error and placed 1133/1411 on final try. I will try to improve feature extraction and use more powerful ML algorithm (high scoring users in the competiton are mostly using neural nets) for next time."
   ]
  },
  {
   "cell_type": "code",
   "execution_count": null,
   "metadata": {},
   "outputs": [],
   "source": []
  }
 ],
 "metadata": {
  "kernelspec": {
   "display_name": "Python 3",
   "language": "python",
   "name": "python3"
  },
  "language_info": {
   "codemirror_mode": {
    "name": "ipython",
    "version": 3
   },
   "file_extension": ".py",
   "mimetype": "text/x-python",
   "name": "python",
   "nbconvert_exporter": "python",
   "pygments_lexer": "ipython3",
   "version": "3.5.2"
  }
 },
 "nbformat": 4,
 "nbformat_minor": 2
}
