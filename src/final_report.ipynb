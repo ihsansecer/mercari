{
 "cells": [
  {
   "cell_type": "markdown",
   "metadata": {
    "_cell_guid": "253949e3-dddb-4682-b23d-b0ab4876526f",
    "_uuid": "098bbd367f3e7262fd20364df3b490e5cc2828cb"
   },
   "source": [
    "# Mercari Price Suggestion Challenge - Final Report"
   ]
  },
  {
   "cell_type": "markdown",
   "metadata": {
    "_cell_guid": "7ceaf960-35bd-447e-83dc-ba3ea11384a1",
    "_uuid": "79f4275117efb1ab7e83408cecbe43987bfdc0c0"
   },
   "source": [
    "Mercari is a community-powered shopping application. What they want to achive is to suggest prices for their customers when they want to sell an item. Thus goal of this competition is to suggest prices based on provided data.\n",
    "\n",
    "### Data fields\n",
    "\n",
    "#### train.tsv, test.tsv\n",
    "\n",
    "- `train_id` or `test_id` - the id of the listing\n",
    "\n",
    "- name - the title of the listing. Note that we have cleaned the data to remove text that look like prices (e.g. $20) to avoid leakage. These removed prices are represented as [rm]\n",
    "\n",
    "- `item_condition_id` - the condition of the items provided by the seller (1: new 2: like new 3: good 4: fair 5: poor)\n",
    "\n",
    "- `category_name` - category of the listing (such as \"Electronics/Video Games & Consoles/Games\")\n",
    "\n",
    "- `brand_name`\n",
    "\n",
    "- `price` - the price that the item was sold for. This is the label of dataset.\n",
    "\n",
    "- `shipping` - 1 if shipping fee is paid by seller and 0 by buyer\n",
    "\n",
    "- `item_description` - full text description of the item.\n",
    "\n",
    "[Reference](https://www.kaggle.com/c/mercari-price-suggestion-challenge/data)"
   ]
  },
  {
   "cell_type": "code",
   "execution_count": 2,
   "metadata": {
    "_cell_guid": "38b4c6a7-84c1-4261-ac0d-e1b3e5c95659",
    "_uuid": "c627237f1dc39ca5a1d2cd00eb80feac9c7ad660"
   },
   "outputs": [
    {
     "name": "stdout",
     "output_type": "stream",
     "text": [
      "Cost Function: Mean Absolute Error (MAE)\n"
     ]
    },
    {
     "data": {
      "text/latex": [
       "$$MAE = \\frac{1}{n} \\sum_{i=1}^n \\mid p_i - a_i\\mid$$"
      ],
      "text/plain": [
       "<IPython.core.display.Math object>"
      ]
     },
     "execution_count": 2,
     "metadata": {},
     "output_type": "execute_result"
    }
   ],
   "source": [
    "from IPython.display import Math\n",
    "\n",
    "print(\"Cost Function: Mean Absolute Error (MAE)\")\n",
    "Math(r\"MAE = \\frac{1}{n} \\sum_{i=1}^n \\mid p_i - a_i\\mid\")"
   ]
  },
  {
   "cell_type": "markdown",
   "metadata": {
    "_cell_guid": "92a536d5-08a4-4463-86a4-45a59f954399",
    "_uuid": "f4fc3a33db3f35be1397a29a9d973cc49f9061d4"
   },
   "source": [
    "## Exploratory Data Analysis"
   ]
  },
  {
   "cell_type": "code",
   "execution_count": 2,
   "metadata": {
    "_cell_guid": "1856d718-a168-4a50-945a-dc6edf05bed1",
    "_uuid": "554e161d4a6b8ef242e9fc457d4c13f6c08efcf6"
   },
   "outputs": [],
   "source": [
    "%matplotlib inline\n",
    "\n",
    "import re\n",
    "from collections import Counter\n",
    "\n",
    "import pandas as pd\n",
    "import numpy as np\n",
    "import matplotlib.pyplot as plt \n",
    "from sklearn.model_selection import train_test_split\n",
    "from nltk import download\n",
    "from nltk.corpus import stopwords"
   ]
  },
  {
   "cell_type": "markdown",
   "metadata": {},
   "source": [
    "Since I do not have enough memory to utilize techniques we used throughout the semester, I selected **Sports & Outdoors** category for analysis and prediction. "
   ]
  },
  {
   "cell_type": "code",
   "execution_count": 3,
   "metadata": {
    "_cell_guid": "6462d7d7-39de-4a57-835b-6fb5ebfbf9a3",
    "_uuid": "55b9703439268604ef3d62d32712c75f888535c2"
   },
   "outputs": [
    {
     "name": "stdout",
     "output_type": "stream",
     "text": [
      "Number of items in training set: 20273\n",
      "Number of items in test set: 5069\n"
     ]
    },
    {
     "data": {
      "text/html": [
       "<div>\n",
       "<style scoped>\n",
       "    .dataframe tbody tr th:only-of-type {\n",
       "        vertical-align: middle;\n",
       "    }\n",
       "\n",
       "    .dataframe tbody tr th {\n",
       "        vertical-align: top;\n",
       "    }\n",
       "\n",
       "    .dataframe thead th {\n",
       "        text-align: right;\n",
       "    }\n",
       "</style>\n",
       "<table border=\"1\" class=\"dataframe\">\n",
       "  <thead>\n",
       "    <tr style=\"text-align: right;\">\n",
       "      <th></th>\n",
       "      <th>train_id</th>\n",
       "      <th>name</th>\n",
       "      <th>item_condition_id</th>\n",
       "      <th>category_name</th>\n",
       "      <th>brand_name</th>\n",
       "      <th>price</th>\n",
       "      <th>shipping</th>\n",
       "      <th>item_description</th>\n",
       "    </tr>\n",
       "  </thead>\n",
       "  <tbody>\n",
       "    <tr>\n",
       "      <th>1317627</th>\n",
       "      <td>1317627</td>\n",
       "      <td>Under Armour Boys Zip Up Sweatshirt</td>\n",
       "      <td>3</td>\n",
       "      <td>Sports &amp; Outdoors/Apparel/Boys</td>\n",
       "      <td>Under Armour</td>\n",
       "      <td>10.0</td>\n",
       "      <td>0</td>\n",
       "      <td>Size Boys Small Under Armour full zip up hoode...</td>\n",
       "    </tr>\n",
       "    <tr>\n",
       "      <th>1356698</th>\n",
       "      <td>1356698</td>\n",
       "      <td>Nike Strike Football Cleats</td>\n",
       "      <td>3</td>\n",
       "      <td>Sports &amp; Outdoors/Footwear/Cleats</td>\n",
       "      <td>Nike</td>\n",
       "      <td>31.0</td>\n",
       "      <td>0</td>\n",
       "      <td>Boys Youth size 6 Nike Strike Football Cleats ...</td>\n",
       "    </tr>\n",
       "    <tr>\n",
       "      <th>1300098</th>\n",
       "      <td>1300098</td>\n",
       "      <td>Kids Under Armour Football Gloves</td>\n",
       "      <td>3</td>\n",
       "      <td>Sports &amp; Outdoors/Team Sports/Football</td>\n",
       "      <td>Under Armour</td>\n",
       "      <td>12.0</td>\n",
       "      <td>0</td>\n",
       "      <td>Kids UA football gloves</td>\n",
       "    </tr>\n",
       "    <tr>\n",
       "      <th>282600</th>\n",
       "      <td>282600</td>\n",
       "      <td>BUNDLE</td>\n",
       "      <td>3</td>\n",
       "      <td>Sports &amp; Outdoors/Fan Shop/NHL</td>\n",
       "      <td>NaN</td>\n",
       "      <td>74.0</td>\n",
       "      <td>0</td>\n",
       "      <td>Sharks Jacket Atlanta Thrashers Jersey Kings H...</td>\n",
       "    </tr>\n",
       "    <tr>\n",
       "      <th>204097</th>\n",
       "      <td>204097</td>\n",
       "      <td>Waist Trainer</td>\n",
       "      <td>1</td>\n",
       "      <td>Sports &amp; Outdoors/Exercise/Fitness accessories</td>\n",
       "      <td>NaN</td>\n",
       "      <td>25.0</td>\n",
       "      <td>1</td>\n",
       "      <td>New still in bag. Slimming Waist Shaper Traini...</td>\n",
       "    </tr>\n",
       "  </tbody>\n",
       "</table>\n",
       "</div>"
      ],
      "text/plain": [
       "         train_id                                 name  item_condition_id  \\\n",
       "1317627   1317627  Under Armour Boys Zip Up Sweatshirt                  3   \n",
       "1356698   1356698          Nike Strike Football Cleats                  3   \n",
       "1300098   1300098    Kids Under Armour Football Gloves                  3   \n",
       "282600     282600                               BUNDLE                  3   \n",
       "204097     204097                        Waist Trainer                  1   \n",
       "\n",
       "                                          category_name    brand_name  price  \\\n",
       "1317627                  Sports & Outdoors/Apparel/Boys  Under Armour   10.0   \n",
       "1356698               Sports & Outdoors/Footwear/Cleats          Nike   31.0   \n",
       "1300098          Sports & Outdoors/Team Sports/Football  Under Armour   12.0   \n",
       "282600                   Sports & Outdoors/Fan Shop/NHL           NaN   74.0   \n",
       "204097   Sports & Outdoors/Exercise/Fitness accessories           NaN   25.0   \n",
       "\n",
       "         shipping                                   item_description  \n",
       "1317627         0  Size Boys Small Under Armour full zip up hoode...  \n",
       "1356698         0  Boys Youth size 6 Nike Strike Football Cleats ...  \n",
       "1300098         0                            Kids UA football gloves  \n",
       "282600          0  Sharks Jacket Atlanta Thrashers Jersey Kings H...  \n",
       "204097          1  New still in bag. Slimming Waist Shaper Traini...  "
      ]
     },
     "execution_count": 3,
     "metadata": {},
     "output_type": "execute_result"
    }
   ],
   "source": [
    "df_train = pd.read_csv('./train.tsv', sep='\\t')\n",
    "\n",
    "df_train[\"category_name\"].fillna(value=\"none\", inplace=True)\n",
    "df_train = df_train[df_train['category_name'].str.startswith('Sports & Outdoors')]\n",
    "df_train, df_test = train_test_split(df_train, test_size=0.2, random_state=42)\n",
    "\n",
    "train_count = len(df_train)\n",
    "test_count = len(df_test)\n",
    "print(\"Number of items in training set: {}\".format(train_count))\n",
    "print(\"Number of items in test set: {}\".format(test_count))\n",
    "df_train.head()"
   ]
  },
  {
   "cell_type": "markdown",
   "metadata": {
    "_cell_guid": "9e5d61ce-1656-4a20-81c7-da256aca6834",
    "_uuid": "892bffed79c45c3e4aa4d25d7a8b75765e626104"
   },
   "source": [
    "### General Analysis"
   ]
  },
  {
   "cell_type": "code",
   "execution_count": 4,
   "metadata": {
    "_cell_guid": "b92600db-810d-4e9a-9449-e58c9bf7edd7",
    "_uuid": "0d27b89b3963091382d547f31f6d72580ed71aff"
   },
   "outputs": [
    {
     "data": {
      "text/plain": [
       "count    20273.000000\n",
       "mean        25.617200\n",
       "std         29.692877\n",
       "min          0.000000\n",
       "25%         11.000000\n",
       "50%         16.000000\n",
       "75%         28.000000\n",
       "max        915.000000\n",
       "Name: price, dtype: object"
      ]
     },
     "execution_count": 4,
     "metadata": {},
     "output_type": "execute_result"
    }
   ],
   "source": [
    "price = df_train[\"price\"]\n",
    "price.describe().apply(lambda x: format(x, 'f'))"
   ]
  },
  {
   "cell_type": "code",
   "execution_count": 5,
   "metadata": {
    "_cell_guid": "caaa5857-61de-415c-a3af-667faa0ce4db",
    "_uuid": "1e5da1bd69c24feac8a4f75e7aa4b9bdcbda36b1"
   },
   "outputs": [
    {
     "data": {
      "image/png": "[encoded data removed]",
      "text/plain": [
       "<matplotlib.figure.Figure at 0x7f6079eefda0>"
      ]
     },
     "metadata": {},
     "output_type": "display_data"
    }
   ],
   "source": [
    "price.hist(log=True, bins=50)\n",
    "plt.title(\"Price/log(number_of_items) Graph\")\n",
    "plt.xlabel(\"price\")\n",
    "plt.ylabel(\"log(number_of_items)\")\n",
    "plt.show()"
   ]
  },
  {
   "cell_type": "markdown",
   "metadata": {
    "_cell_guid": "3a1598aa-d75e-44b6-932f-6c481ad09a3e",
    "_uuid": "a43df7fa873dfcd19a18c787c127bbdcde83fd8d"
   },
   "source": [
    "Prices of items are mostly accumulated in the range between 0 to 400 USD."
   ]
  },
  {
   "cell_type": "code",
   "execution_count": 6,
   "metadata": {
    "_cell_guid": "330d99ee-e0a0-486c-af25-560a8e5d977f",
    "_uuid": "7e748ab94ff97fca197671137f65636e2b5f9355"
   },
   "outputs": [
    {
     "name": "stdout",
     "output_type": "stream",
     "text": [
      "Number of free items: 15\n"
     ]
    }
   ],
   "source": [
    "zeros = np.where(price==0)\n",
    "print(\"Number of free items: {}\".format(zeros[0].size))"
   ]
  },
  {
   "cell_type": "code",
   "execution_count": 7,
   "metadata": {
    "_cell_guid": "48ef929f-1ba4-439f-947a-854089d9ebde",
    "_uuid": "1ef47ebdb42c04f8643733c6a100f76ae164885e"
   },
   "outputs": [
    {
     "name": "stdout",
     "output_type": "stream",
     "text": [
      "Most frequent categories:\n"
     ]
    },
    {
     "data": {
      "text/plain": [
       "Sports & Outdoors/Exercise/Fitness accessories       3363\n",
       "Sports & Outdoors/Fan Shop/NFL                       2688\n",
       "Sports & Outdoors/Exercise/Fitness technology        1628\n",
       "Sports & Outdoors/Outdoors/Hiking & Camping          1577\n",
       "Sports & Outdoors/Fan Shop/MLB                        846\n",
       "Sports & Outdoors/Fan Shop/NCAA                       805\n",
       "Sports & Outdoors/Apparel/Boys                        798\n",
       "Sports & Outdoors/Apparel/Accessories                 787\n",
       "Sports & Outdoors/Team Sports/Baseball & Softball     524\n",
       "Sports & Outdoors/Fan Shop/NBA                        508\n",
       "Name: category_name, dtype: int64"
      ]
     },
     "execution_count": 7,
     "metadata": {},
     "output_type": "execute_result"
    }
   ],
   "source": [
    "category_counts = df_train[\"category_name\"].value_counts()\n",
    "print(\"Most frequent categories:\")\n",
    "category_counts.head(10)"
   ]
  },
  {
   "cell_type": "markdown",
   "metadata": {
    "_cell_guid": "1ff17c84-90a4-46e7-97d5-856f5ef373ea",
    "_uuid": "ae312e4bad9bc5df008e7c7e4b447a7be6efd133"
   },
   "source": [
    "Fitness related categories clearly predominates."
   ]
  },
  {
   "cell_type": "code",
   "execution_count": 8,
   "metadata": {
    "_cell_guid": "3829cb9d-b8b7-40fe-92f1-94041823cad3",
    "_uuid": "2e973c0fc253d76d78bfb6ff2be8af38dcced7fa"
   },
   "outputs": [
    {
     "name": "stdout",
     "output_type": "stream",
     "text": [
      "Item conditions:\n",
      "1: new\n",
      "2: like new\n",
      "3: good\n",
      "4: fair\n",
      "5: poor\n",
      "-----------------------\n",
      "Item condition counts:\n"
     ]
    },
    {
     "data": {
      "text/plain": [
       "1    9783\n",
       "3    5501\n",
       "2    4528\n",
       "4     447\n",
       "5      14\n",
       "Name: item_condition_id, dtype: int64"
      ]
     },
     "execution_count": 8,
     "metadata": {},
     "output_type": "execute_result"
    }
   ],
   "source": [
    "item_condition = df_train[\"item_condition_id\"]\n",
    "print(\"Item conditions:\")\n",
    "print(\"1: new\\n2: like new\\n3: good\\n4: fair\\n5: poor\")\n",
    "print(\"-----------------------\")\n",
    "print(\"Item condition counts:\")\n",
    "item_condition.value_counts()"
   ]
  },
  {
   "cell_type": "code",
   "execution_count": 9,
   "metadata": {
    "_cell_guid": "b4a7534e-1b75-48e6-bb89-cb7f324f7a04",
    "_uuid": "ca207437f5d84571c3170bf2b5316b243e515b12"
   },
   "outputs": [
    {
     "data": {
      "image/png": "[encoded data removed]",
      "text/plain": [
       "<matplotlib.figure.Figure at 0x7f6069d188d0>"
      ]
     },
     "metadata": {},
     "output_type": "display_data"
    },
    {
     "name": "stdout",
     "output_type": "stream",
     "text": [
      "blue: new\n",
      "green: like new\n",
      "orange: good\n",
      "red: fair\n",
      "brown: poor\n"
     ]
    }
   ],
   "source": [
    "condition_colors = ['blue', 'green', 'orange', 'red', 'brown']\n",
    "for i, color in enumerate(condition_colors):\n",
    "    plot_df = df_train.query('item_condition_id == {}'.format(i+1))\n",
    "    plot_df['price'].hist(log=True, color=color, bins=50)\n",
    "plt.title(\"Price/log(number_of_items) Graph According to Item Conditions\")\n",
    "plt.xlabel(\"price\")\n",
    "plt.ylabel(\"log(number_of_items)\")\n",
    "plt.show()\n",
    "print(\"blue: new\\ngreen: like new\\norange: good\\nred: fair\\nbrown: poor\")"
   ]
  },
  {
   "cell_type": "markdown",
   "metadata": {
    "_cell_guid": "e55884ad-e8d4-4bdd-ac92-b72313cc7af1",
    "_uuid": "093aceaca90891d4b437fc7c08e07ce18b6c75d4"
   },
   "source": [
    "From new to poor conditions the longness of the graphs' tail increases. So obviously the better condition one item has, the more expensive it is. Nothing unexpected."
   ]
  },
  {
   "cell_type": "code",
   "execution_count": 10,
   "metadata": {
    "_cell_guid": "20f1c8a8-5d7a-481c-bbea-1cebb2e654b5",
    "_uuid": "d7b4a1a8eb25e2c85c2f2529a0d8f6dd9abe753d"
   },
   "outputs": [
    {
     "name": "stdout",
     "output_type": "stream",
     "text": [
      "Shipping statuses:\n",
      "1: paid shipping\n",
      "2: non-paid shipping\n",
      "-----------------------\n",
      "Shipping status counts:\n"
     ]
    },
    {
     "data": {
      "text/plain": [
       "0    11301\n",
       "1     8972\n",
       "Name: shipping, dtype: int64"
      ]
     },
     "execution_count": 10,
     "metadata": {},
     "output_type": "execute_result"
    }
   ],
   "source": [
    "shipping_status = df_train[\"shipping\"]\n",
    "print(\"Shipping statuses:\")\n",
    "print(\"1: paid shipping\\n2: non-paid shipping\")\n",
    "print(\"-----------------------\")\n",
    "print(\"Shipping status counts:\")\n",
    "shipping_status.value_counts()"
   ]
  },
  {
   "cell_type": "code",
   "execution_count": 11,
   "metadata": {
    "_cell_guid": "9c75079e-c918-457b-b57f-3c2decf3828d",
    "_uuid": "29eeb182ec070b8ec3713f9cee6c88da9089a37a"
   },
   "outputs": [
    {
     "data": {
      "image/png": "[encoded data removed]",
      "text/plain": [
       "<matplotlib.figure.Figure at 0x7f6064e650f0>"
      ]
     },
     "metadata": {},
     "output_type": "display_data"
    },
    {
     "name": "stdout",
     "output_type": "stream",
     "text": [
      "green: paid shipping\n",
      "red: non-paid shipping\n"
     ]
    }
   ],
   "source": [
    "condition_colors = ['red', 'green']\n",
    "for i, color in enumerate(condition_colors):\n",
    "    plot_df = df_train.query('shipping == {}'.format(i))\n",
    "    plot_df['price'].hist(log=True, color=color, bins=50, alpha=0.8)\n",
    "plt.title(\"Price/log(number_of_items) Graph According to Shipping Status\")\n",
    "plt.xlabel(\"price\")\n",
    "plt.ylabel(\"log(number_of_items)\")\n",
    "plt.show()\n",
    "print(\"green: paid shipping\\nred: non-paid shipping\")"
   ]
  },
  {
   "cell_type": "markdown",
   "metadata": {
    "_cell_guid": "0cb21695-c4b1-41b0-a0d7-05f117f3a3bb",
    "_uuid": "69be32b631c5ea3c05811dcd5a7f24e6c43223f3"
   },
   "source": [
    "Interestingly, number of items with non-paid shipping increases as price increase."
   ]
  },
  {
   "cell_type": "code",
   "execution_count": 12,
   "metadata": {
    "_cell_guid": "6dd08e6a-158b-452e-8ffd-54974c8f5341",
    "_uuid": "daa6653b5004e5bcb21033ab5d027ec62db6d59b"
   },
   "outputs": [
    {
     "data": {
      "image/png": "[encoded data removed]",
      "text/plain": [
       "<matplotlib.figure.Figure at 0x7f606b1ca2e8>"
      ]
     },
     "metadata": {},
     "output_type": "display_data"
    },
    {
     "name": "stdout",
     "output_type": "stream",
     "text": [
      "green: paid shipping\n",
      "red: non-paid shipping\n",
      "-----------------------\n",
      "1: new\n",
      "2: like new\n",
      "3: good\n",
      "4: fair\n",
      "5: poor\n"
     ]
    }
   ],
   "source": [
    "for i, color in enumerate(condition_colors):\n",
    "    plot_df = df_train.query('shipping == {}'.format(i))\n",
    "    plot_df['item_condition_id'].hist(log=True, color=color, alpha=0.8)\n",
    "plt.title(\"Item_condition/log(number_of_items) Graph According to Shipping Status\")\n",
    "plt.xlabel(\"item_condition\")\n",
    "plt.ylabel(\"log(number_of_items)\")\n",
    "plt.show()\n",
    "print(\"green: paid shipping\\nred: non-paid shipping\")\n",
    "print(\"-----------------------\")\n",
    "print(\"1: new\\n2: like new\\n3: good\\n4: fair\\n5: poor\")"
   ]
  },
  {
   "cell_type": "code",
   "execution_count": 13,
   "metadata": {
    "_cell_guid": "3114663a-7a7a-4dab-af71-3f20ed290437",
    "_uuid": "39214ea5a63fa204e065648319ac5cf19a575e9e"
   },
   "outputs": [
    {
     "name": "stdout",
     "output_type": "stream",
     "text": [
      "Most frequent brands:\n"
     ]
    },
    {
     "data": {
      "text/plain": [
       "Fitbit          1629\n",
       "Nike            1609\n",
       "Under Armour     950\n",
       "Adidas           492\n",
       "Yeti             254\n",
       "Reebok           251\n",
       "Garmin            96\n",
       "Titleist          96\n",
       "Rawlings          89\n",
       "Wilson            84\n",
       "Name: brand_name, dtype: int64"
      ]
     },
     "execution_count": 13,
     "metadata": {},
     "output_type": "execute_result"
    }
   ],
   "source": [
    "brand_counts = df_train[\"brand_name\"].value_counts()\n",
    "print(\"Most frequent brands:\")\n",
    "brand_counts.head(10)"
   ]
  },
  {
   "cell_type": "markdown",
   "metadata": {
    "_cell_guid": "98b629b1-dc7e-4ff3-ad03-683475d83110",
    "_uuid": "9fb65466f19833c577a51aeff6f5f84156773e65"
   },
   "source": [
    "### Expensiveness"
   ]
  },
  {
   "cell_type": "code",
   "execution_count": 14,
   "metadata": {
    "_cell_guid": "2007091b-49b0-4fc5-88b0-fcd662245ee7",
    "_uuid": "241eb2ab1cd0dfb23e840cb92980354482f47fc9"
   },
   "outputs": [
    {
     "name": "stdout",
     "output_type": "stream",
     "text": [
      "Most expensive brands according to price median:\n"
     ]
    },
    {
     "data": {
      "text/plain": [
       "brand_name\n",
       "Xenith               171.0\n",
       "Dunlop               140.0\n",
       "Winchester           130.0\n",
       "Barnett Crossbows    120.0\n",
       "Hoverboard           100.0\n",
       "Blitz®                95.0\n",
       "Streamlight®          95.0\n",
       "Adams Golf            90.0\n",
       "GolfBuddy             85.0\n",
       "Thule                 80.0\n",
       "dtype: float64"
      ]
     },
     "execution_count": 14,
     "metadata": {},
     "output_type": "execute_result"
    }
   ],
   "source": [
    "expensives = df_train.copy(deep=True)\n",
    "expensive_brands = expensives.groupby(['brand_name'])\n",
    "print(\"Most expensive brands according to price median:\")\n",
    "expensive_brands.apply(lambda x: x[\"price\"].median()).sort_values(ascending=False).head(10)"
   ]
  },
  {
   "cell_type": "code",
   "execution_count": 15,
   "metadata": {
    "_cell_guid": "301befdc-ac37-4bee-a6cc-283cde8e7c89",
    "_uuid": "804a220f07ab5ba6e1d53dc36b31cf8309cd2096"
   },
   "outputs": [
    {
     "name": "stdout",
     "output_type": "stream",
     "text": [
      "Most expensive categories according to price median:\n"
     ]
    },
    {
     "data": {
      "text/plain": [
       "category_name\n",
       "Sports & Outdoors/Golf/Women's Golf Clubs        100.0\n",
       "Sports & Outdoors/Golf/Electronics                72.0\n",
       "Sports & Outdoors/Exercise/Track & Field          53.5\n",
       "Sports & Outdoors/Golf/Golf Bags                  52.0\n",
       "Sports & Outdoors/Golf/Men's Golf Clubs           51.0\n",
       "Sports & Outdoors/Exercise/Fitness technology     45.0\n",
       "Sports & Outdoors/Outdoors/Boating                35.5\n",
       "Sports & Outdoors/Golf/Golf Shoes                 31.0\n",
       "Sports & Outdoors/Footwear/Cleats                 31.0\n",
       "Sports & Outdoors/Outdoors/Snowboard              29.0\n",
       "dtype: float64"
      ]
     },
     "execution_count": 15,
     "metadata": {},
     "output_type": "execute_result"
    }
   ],
   "source": [
    "expensive_categories = df_train.groupby(['category_name'])\n",
    "print(\"Most expensive categories according to price median:\")\n",
    "expensive_categories.apply(lambda x: x[\"price\"].median()).sort_values(ascending=False).head(10)"
   ]
  },
  {
   "cell_type": "markdown",
   "metadata": {
    "_cell_guid": "755f5353-0fb5-4ada-b61d-2e47c57a8d0f",
    "_uuid": "fd331cea434c7c929b07375ad6876f7c7ad404d8"
   },
   "source": [
    "### Words inside Item Descriptions"
   ]
  },
  {
   "cell_type": "code",
   "execution_count": 16,
   "metadata": {
    "_cell_guid": "ef115643-d7aa-4acf-a581-2a996fdc98f1",
    "_uuid": "92d96b78e5e79bfb5bc9f65d80908e39fd9659aa"
   },
   "outputs": [
    {
     "name": "stdout",
     "output_type": "stream",
     "text": [
      "[nltk_data] Downloading package stopwords to /home/ihsan/nltk_data...\n",
      "[nltk_data]   Package stopwords is already up-to-date!\n"
     ]
    }
   ],
   "source": [
    "download(\"stopwords\")\n",
    "stop_words = stopwords.words('english')"
   ]
  },
  {
   "cell_type": "markdown",
   "metadata": {
    "_cell_guid": "a70756d2-0c3c-44a7-8d29-835e0c232777",
    "_uuid": "cff867aac334fdb901f805b78b4ed68f2790aff0"
   },
   "source": [
    "Words are count after removing stop words."
   ]
  },
  {
   "cell_type": "code",
   "execution_count": 17,
   "metadata": {
    "_cell_guid": "e1256f3f-dd98-422a-b31c-5796af4052a1",
    "_uuid": "03a0234bfd2c20940c3e9b5e5b8819899e39369d"
   },
   "outputs": [
    {
     "name": "stdout",
     "output_type": "stream",
     "text": [
      "Most frequent words inside item descriptions excluding stop words:\n"
     ]
    },
    {
     "data": {
      "text/plain": [
       "size        6837\n",
       "brand       3834\n",
       "waist       2871\n",
       "free        2845\n",
       "used        2742\n",
       "great       2536\n",
       "[rm]        2329\n",
       "black       2083\n",
       "shipping    2012\n",
       "never       1963\n",
       "dtype: int64"
      ]
     },
     "execution_count": 17,
     "metadata": {},
     "output_type": "execute_result"
    }
   ],
   "source": [
    "descriptions = df_train.copy(deep=True)\n",
    "descriptions = descriptions.dropna(subset=[\"item_description\"], how=\"any\")\n",
    "word_list = \" \".join(descriptions[\"item_description\"]).lower().split()\n",
    "print(\"Most frequent words inside item descriptions excluding stop words:\")\n",
    "pd.Series([word if word not in stop_words and len(word) > 3 else None for word in word_list]).value_counts()[:10]"
   ]
  },
  {
   "cell_type": "markdown",
   "metadata": {
    "_cell_guid": "e74dae37-7846-4970-87f2-57dee1d63ba6",
    "_uuid": "08d597e839f879b0686b470c476703443220c985"
   },
   "source": [
    "## Pre-processing and Training"
   ]
  },
  {
   "cell_type": "code",
   "execution_count": 18,
   "metadata": {
    "_cell_guid": "3a179c36-1f1f-44e7-bb28-b3b1072ccded",
    "_uuid": "d07b47deb32a7bb7bd1e36388fa5d6139e80eca5"
   },
   "outputs": [],
   "source": [
    "import math\n",
    "\n",
    "import pandas as pd\n",
    "import numpy as np\n",
    "\n",
    "from sklearn.ensemble import ExtraTreesRegressor\n",
    "from sklearn.svm import SVR\n",
    "from sklearn.linear_model import Ridge\n",
    "from sklearn.model_selection import cross_val_predict, GridSearchCV\n",
    "from sklearn.metrics import mean_absolute_error\n",
    "from sklearn.decomposition import IncrementalPCA\n",
    "from mlxtend.regressor import StackingRegressor\n",
    "from nltk import download\n",
    "from nltk.corpus import stopwords"
   ]
  },
  {
   "cell_type": "markdown",
   "metadata": {
    "_cell_guid": "fb7b7084-e847-4041-9156-4bbbc82c1fea",
    "_uuid": "1e2f2bffe5f4bdd8b988ba3ec9c6868b4242cb6a"
   },
   "source": [
    "### Preparing Data"
   ]
  },
  {
   "cell_type": "code",
   "execution_count": 19,
   "metadata": {
    "_cell_guid": "7b7d6a61-0b19-48de-899e-674ca036e1c0",
    "_uuid": "28a45c1964ad40f46416b96f589d3feccabc5a95"
   },
   "outputs": [
    {
     "data": {
      "text/html": [
       "<div>\n",
       "<style scoped>\n",
       "    .dataframe tbody tr th:only-of-type {\n",
       "        vertical-align: middle;\n",
       "    }\n",
       "\n",
       "    .dataframe tbody tr th {\n",
       "        vertical-align: top;\n",
       "    }\n",
       "\n",
       "    .dataframe thead th {\n",
       "        text-align: right;\n",
       "    }\n",
       "</style>\n",
       "<table border=\"1\" class=\"dataframe\">\n",
       "  <thead>\n",
       "    <tr style=\"text-align: right;\">\n",
       "      <th></th>\n",
       "      <th>train_id</th>\n",
       "      <th>name</th>\n",
       "      <th>item_condition_id</th>\n",
       "      <th>category_name</th>\n",
       "      <th>brand_name</th>\n",
       "      <th>shipping</th>\n",
       "      <th>item_description</th>\n",
       "    </tr>\n",
       "  </thead>\n",
       "  <tbody>\n",
       "    <tr>\n",
       "      <th>1317627</th>\n",
       "      <td>1317627</td>\n",
       "      <td>Under Armour Boys Zip Up Sweatshirt</td>\n",
       "      <td>3</td>\n",
       "      <td>Sports &amp; Outdoors/Apparel/Boys</td>\n",
       "      <td>Under Armour</td>\n",
       "      <td>0</td>\n",
       "      <td>Size Boys Small Under Armour full zip up hoode...</td>\n",
       "    </tr>\n",
       "    <tr>\n",
       "      <th>1356698</th>\n",
       "      <td>1356698</td>\n",
       "      <td>Nike Strike Football Cleats</td>\n",
       "      <td>3</td>\n",
       "      <td>Sports &amp; Outdoors/Footwear/Cleats</td>\n",
       "      <td>Nike</td>\n",
       "      <td>0</td>\n",
       "      <td>Boys Youth size 6 Nike Strike Football Cleats ...</td>\n",
       "    </tr>\n",
       "    <tr>\n",
       "      <th>1300098</th>\n",
       "      <td>1300098</td>\n",
       "      <td>Kids Under Armour Football Gloves</td>\n",
       "      <td>3</td>\n",
       "      <td>Sports &amp; Outdoors/Team Sports/Football</td>\n",
       "      <td>Under Armour</td>\n",
       "      <td>0</td>\n",
       "      <td>Kids UA football gloves</td>\n",
       "    </tr>\n",
       "    <tr>\n",
       "      <th>282600</th>\n",
       "      <td>282600</td>\n",
       "      <td>BUNDLE</td>\n",
       "      <td>3</td>\n",
       "      <td>Sports &amp; Outdoors/Fan Shop/NHL</td>\n",
       "      <td>NaN</td>\n",
       "      <td>0</td>\n",
       "      <td>Sharks Jacket Atlanta Thrashers Jersey Kings H...</td>\n",
       "    </tr>\n",
       "    <tr>\n",
       "      <th>204097</th>\n",
       "      <td>204097</td>\n",
       "      <td>Waist Trainer</td>\n",
       "      <td>1</td>\n",
       "      <td>Sports &amp; Outdoors/Exercise/Fitness accessories</td>\n",
       "      <td>NaN</td>\n",
       "      <td>1</td>\n",
       "      <td>New still in bag. Slimming Waist Shaper Traini...</td>\n",
       "    </tr>\n",
       "  </tbody>\n",
       "</table>\n",
       "</div>"
      ],
      "text/plain": [
       "         train_id                                 name  item_condition_id  \\\n",
       "1317627   1317627  Under Armour Boys Zip Up Sweatshirt                  3   \n",
       "1356698   1356698          Nike Strike Football Cleats                  3   \n",
       "1300098   1300098    Kids Under Armour Football Gloves                  3   \n",
       "282600     282600                               BUNDLE                  3   \n",
       "204097     204097                        Waist Trainer                  1   \n",
       "\n",
       "                                          category_name    brand_name  \\\n",
       "1317627                  Sports & Outdoors/Apparel/Boys  Under Armour   \n",
       "1356698               Sports & Outdoors/Footwear/Cleats          Nike   \n",
       "1300098          Sports & Outdoors/Team Sports/Football  Under Armour   \n",
       "282600                   Sports & Outdoors/Fan Shop/NHL           NaN   \n",
       "204097   Sports & Outdoors/Exercise/Fitness accessories           NaN   \n",
       "\n",
       "         shipping                                   item_description  \n",
       "1317627         0  Size Boys Small Under Armour full zip up hoode...  \n",
       "1356698         0  Boys Youth size 6 Nike Strike Football Cleats ...  \n",
       "1300098         0                            Kids UA football gloves  \n",
       "282600          0  Sharks Jacket Atlanta Thrashers Jersey Kings H...  \n",
       "204097          1  New still in bag. Slimming Waist Shaper Traini...  "
      ]
     },
     "execution_count": 19,
     "metadata": {},
     "output_type": "execute_result"
    }
   ],
   "source": [
    "y_train = df_train[\"price\"]\n",
    "y_test = df_test[\"price\"]\n",
    "df_combined = df_train.append(df_test).drop(\"price\", axis=1)\n",
    "df_combined.head()"
   ]
  },
  {
   "cell_type": "code",
   "execution_count": 20,
   "metadata": {
    "_cell_guid": "a199c177-21b6-4dbe-8211-8cfa5e026625",
    "_uuid": "07051680648130b7837e541147db6a43b921a121"
   },
   "outputs": [
    {
     "data": {
      "text/plain": [
       "train_id             False\n",
       "name                 False\n",
       "item_condition_id    False\n",
       "category_name        False\n",
       "brand_name            True\n",
       "shipping             False\n",
       "item_description     False\n",
       "dtype: bool"
      ]
     },
     "execution_count": 20,
     "metadata": {},
     "output_type": "execute_result"
    }
   ],
   "source": [
    "df_combined.isnull().any()"
   ]
  },
  {
   "cell_type": "code",
   "execution_count": 21,
   "metadata": {
    "_cell_guid": "b987506a-c015-490d-9ec7-a72f39f4a38f",
    "_uuid": "95921f316fde8e0edd53445bfcf4ea349320eb20"
   },
   "outputs": [],
   "source": [
    "df_combined[\"brand_name\"].fillna(value=\"none\", inplace=True)\n",
    "df_combined[\"item_description\"].fillna(value=\"none\", inplace=True)"
   ]
  },
  {
   "cell_type": "markdown",
   "metadata": {
    "_cell_guid": "465d5fae-37a8-43a8-b8d2-d3edcd9a4dcb",
    "_uuid": "e8e30c9a3a114c647e0d475c2d4f13b7d469bd64"
   },
   "source": [
    "### Feature extraction"
   ]
  },
  {
   "cell_type": "markdown",
   "metadata": {
    "_cell_guid": "df673b53-842e-46e8-9b4e-c7864e75cdb4",
    "_uuid": "87c6ce03c9c9d5bd35aa1d05328e2ea076b707df"
   },
   "source": [
    "Separate second level of categories to obtain a new feature (\"2category\" in addition to \"1category/2category/3category\"). Not most items has third and forth levels of categories. Thus just second level is extracted. "
   ]
  },
  {
   "cell_type": "code",
   "execution_count": 22,
   "metadata": {
    "_cell_guid": "1bbf601c-bb83-4fce-a927-8b863dc82d84",
    "_uuid": "31d53c5bc402f36b3b3de209d7a7113b12e1598b"
   },
   "outputs": [],
   "source": [
    "def level_cat(x, level=1):\n",
    "    try:\n",
    "        levels = x.split(\"/\")\n",
    "        return levels[level]\n",
    "    except IndexError:\n",
    "        return None\n",
    "    except AttributeError:\n",
    "        return None\n",
    "\n",
    "df_combined[\"{}_level_cat\".format(2)] = df_combined[\"category_name\"].apply(lambda x: level_cat(x, level=2))"
   ]
  },
  {
   "cell_type": "markdown",
   "metadata": {
    "_cell_guid": "5274e083-4901-4403-93b0-92fd0a51984f",
    "_uuid": "10a74320e37b273406e5745ce7b715d8cb9eff5b"
   },
   "source": [
    "Removed stopwords from both description and name of item. Features for them are only lengths. Tried to use text extraction classes of Scikit-learn (TF-IDF) but run out of memory."
   ]
  },
  {
   "cell_type": "code",
   "execution_count": 23,
   "metadata": {
    "_cell_guid": "c01d3cdf-9a0f-4f66-bd08-17eac970a649",
    "_uuid": "2fb34088a968d69e943cfab20beb2fdedda4d0f0"
   },
   "outputs": [],
   "source": [
    "word_count = lambda text: len([word for word in text.split(\" \") if word not in stop_words and len(word) > 3])\n",
    "\n",
    "df_combined[\"name_len\"] = df_combined[\"name\"].apply(word_count)\n",
    "df_combined[\"description_len\"] = df_combined[\"item_description\"].apply(word_count)"
   ]
  },
  {
   "cell_type": "code",
   "execution_count": 24,
   "metadata": {
    "_cell_guid": "c5be600a-ad23-42ed-8df5-f5d27bc77f92",
    "_uuid": "27b2f74ccd938f6aa24e67137ae6fdf8e6c3cdcb"
   },
   "outputs": [
    {
     "data": {
      "text/html": [
       "<div>\n",
       "<style scoped>\n",
       "    .dataframe tbody tr th:only-of-type {\n",
       "        vertical-align: middle;\n",
       "    }\n",
       "\n",
       "    .dataframe tbody tr th {\n",
       "        vertical-align: top;\n",
       "    }\n",
       "\n",
       "    .dataframe thead th {\n",
       "        text-align: right;\n",
       "    }\n",
       "</style>\n",
       "<table border=\"1\" class=\"dataframe\">\n",
       "  <thead>\n",
       "    <tr style=\"text-align: right;\">\n",
       "      <th></th>\n",
       "      <th>train_id</th>\n",
       "      <th>item_condition_id</th>\n",
       "      <th>brand_name</th>\n",
       "      <th>shipping</th>\n",
       "      <th>2_level_cat</th>\n",
       "      <th>name_len</th>\n",
       "      <th>description_len</th>\n",
       "    </tr>\n",
       "  </thead>\n",
       "  <tbody>\n",
       "    <tr>\n",
       "      <th>1317627</th>\n",
       "      <td>1317627</td>\n",
       "      <td>3</td>\n",
       "      <td>Under Armour</td>\n",
       "      <td>0</td>\n",
       "      <td>Boys</td>\n",
       "      <td>4</td>\n",
       "      <td>10</td>\n",
       "    </tr>\n",
       "    <tr>\n",
       "      <th>1356698</th>\n",
       "      <td>1356698</td>\n",
       "      <td>3</td>\n",
       "      <td>Nike</td>\n",
       "      <td>0</td>\n",
       "      <td>Cleats</td>\n",
       "      <td>4</td>\n",
       "      <td>18</td>\n",
       "    </tr>\n",
       "    <tr>\n",
       "      <th>1300098</th>\n",
       "      <td>1300098</td>\n",
       "      <td>3</td>\n",
       "      <td>Under Armour</td>\n",
       "      <td>0</td>\n",
       "      <td>Football</td>\n",
       "      <td>5</td>\n",
       "      <td>3</td>\n",
       "    </tr>\n",
       "    <tr>\n",
       "      <th>282600</th>\n",
       "      <td>282600</td>\n",
       "      <td>3</td>\n",
       "      <td>none</td>\n",
       "      <td>0</td>\n",
       "      <td>NHL</td>\n",
       "      <td>1</td>\n",
       "      <td>35</td>\n",
       "    </tr>\n",
       "    <tr>\n",
       "      <th>204097</th>\n",
       "      <td>204097</td>\n",
       "      <td>1</td>\n",
       "      <td>none</td>\n",
       "      <td>1</td>\n",
       "      <td>Fitness accessories</td>\n",
       "      <td>2</td>\n",
       "      <td>27</td>\n",
       "    </tr>\n",
       "  </tbody>\n",
       "</table>\n",
       "</div>"
      ],
      "text/plain": [
       "         train_id  item_condition_id    brand_name  shipping  \\\n",
       "1317627   1317627                  3  Under Armour         0   \n",
       "1356698   1356698                  3          Nike         0   \n",
       "1300098   1300098                  3  Under Armour         0   \n",
       "282600     282600                  3          none         0   \n",
       "204097     204097                  1          none         1   \n",
       "\n",
       "                 2_level_cat  name_len  description_len  \n",
       "1317627                 Boys         4               10  \n",
       "1356698               Cleats         4               18  \n",
       "1300098             Football         5                3  \n",
       "282600                   NHL         1               35  \n",
       "204097   Fitness accessories         2               27  "
      ]
     },
     "execution_count": 24,
     "metadata": {},
     "output_type": "execute_result"
    }
   ],
   "source": [
    "df_combined = df_combined.drop([\"item_description\", \"category_name\", \"name\"], axis=1)\n",
    "df_combined.head()"
   ]
  },
  {
   "cell_type": "code",
   "execution_count": 25,
   "metadata": {
    "_cell_guid": "1cc09cb1-35a5-431d-8d8e-fc9677d607c5",
    "_uuid": "14bdee5f4af14074fb923ec7ca6bd315038c9475"
   },
   "outputs": [
    {
     "data": {
      "text/plain": [
       "(25342, 316)"
      ]
     },
     "execution_count": 25,
     "metadata": {},
     "output_type": "execute_result"
    }
   ],
   "source": [
    "df_combined = pd.get_dummies(df_combined, columns=[\"brand_name\", \"2_level_cat\"])\n",
    "df_combined.shape"
   ]
  },
  {
   "cell_type": "code",
   "execution_count": 26,
   "metadata": {},
   "outputs": [
    {
     "data": {
      "text/html": [
       "<div>\n",
       "<style scoped>\n",
       "    .dataframe tbody tr th:only-of-type {\n",
       "        vertical-align: middle;\n",
       "    }\n",
       "\n",
       "    .dataframe tbody tr th {\n",
       "        vertical-align: top;\n",
       "    }\n",
       "\n",
       "    .dataframe thead th {\n",
       "        text-align: right;\n",
       "    }\n",
       "</style>\n",
       "<table border=\"1\" class=\"dataframe\">\n",
       "  <thead>\n",
       "    <tr style=\"text-align: right;\">\n",
       "      <th></th>\n",
       "      <th>train_id</th>\n",
       "      <th>item_condition_id</th>\n",
       "      <th>shipping</th>\n",
       "      <th>name_len</th>\n",
       "      <th>description_len</th>\n",
       "      <th>brand_name_5.11 Tactical</th>\n",
       "      <th>brand_name_A Bathing Ape</th>\n",
       "      <th>brand_name_AND1</th>\n",
       "      <th>brand_name_ASICS</th>\n",
       "      <th>brand_name_Abu Garcia</th>\n",
       "      <th>...</th>\n",
       "      <th>2_level_cat_Snowboard</th>\n",
       "      <th>2_level_cat_Soccer</th>\n",
       "      <th>2_level_cat_Strength training</th>\n",
       "      <th>2_level_cat_Tennis &amp; Racquets</th>\n",
       "      <th>2_level_cat_Track &amp; Field</th>\n",
       "      <th>2_level_cat_Volleyball</th>\n",
       "      <th>2_level_cat_Water Sports</th>\n",
       "      <th>2_level_cat_Women</th>\n",
       "      <th>2_level_cat_Women's Golf Clubs</th>\n",
       "      <th>2_level_cat_Yoga &amp; Pilates</th>\n",
       "    </tr>\n",
       "  </thead>\n",
       "  <tbody>\n",
       "    <tr>\n",
       "      <th>1317627</th>\n",
       "      <td>1317627</td>\n",
       "      <td>3</td>\n",
       "      <td>0</td>\n",
       "      <td>4</td>\n",
       "      <td>10</td>\n",
       "      <td>0</td>\n",
       "      <td>0</td>\n",
       "      <td>0</td>\n",
       "      <td>0</td>\n",
       "      <td>0</td>\n",
       "      <td>...</td>\n",
       "      <td>0</td>\n",
       "      <td>0</td>\n",
       "      <td>0</td>\n",
       "      <td>0</td>\n",
       "      <td>0</td>\n",
       "      <td>0</td>\n",
       "      <td>0</td>\n",
       "      <td>0</td>\n",
       "      <td>0</td>\n",
       "      <td>0</td>\n",
       "    </tr>\n",
       "    <tr>\n",
       "      <th>1356698</th>\n",
       "      <td>1356698</td>\n",
       "      <td>3</td>\n",
       "      <td>0</td>\n",
       "      <td>4</td>\n",
       "      <td>18</td>\n",
       "      <td>0</td>\n",
       "      <td>0</td>\n",
       "      <td>0</td>\n",
       "      <td>0</td>\n",
       "      <td>0</td>\n",
       "      <td>...</td>\n",
       "      <td>0</td>\n",
       "      <td>0</td>\n",
       "      <td>0</td>\n",
       "      <td>0</td>\n",
       "      <td>0</td>\n",
       "      <td>0</td>\n",
       "      <td>0</td>\n",
       "      <td>0</td>\n",
       "      <td>0</td>\n",
       "      <td>0</td>\n",
       "    </tr>\n",
       "    <tr>\n",
       "      <th>1300098</th>\n",
       "      <td>1300098</td>\n",
       "      <td>3</td>\n",
       "      <td>0</td>\n",
       "      <td>5</td>\n",
       "      <td>3</td>\n",
       "      <td>0</td>\n",
       "      <td>0</td>\n",
       "      <td>0</td>\n",
       "      <td>0</td>\n",
       "      <td>0</td>\n",
       "      <td>...</td>\n",
       "      <td>0</td>\n",
       "      <td>0</td>\n",
       "      <td>0</td>\n",
       "      <td>0</td>\n",
       "      <td>0</td>\n",
       "      <td>0</td>\n",
       "      <td>0</td>\n",
       "      <td>0</td>\n",
       "      <td>0</td>\n",
       "      <td>0</td>\n",
       "    </tr>\n",
       "    <tr>\n",
       "      <th>282600</th>\n",
       "      <td>282600</td>\n",
       "      <td>3</td>\n",
       "      <td>0</td>\n",
       "      <td>1</td>\n",
       "      <td>35</td>\n",
       "      <td>0</td>\n",
       "      <td>0</td>\n",
       "      <td>0</td>\n",
       "      <td>0</td>\n",
       "      <td>0</td>\n",
       "      <td>...</td>\n",
       "      <td>0</td>\n",
       "      <td>0</td>\n",
       "      <td>0</td>\n",
       "      <td>0</td>\n",
       "      <td>0</td>\n",
       "      <td>0</td>\n",
       "      <td>0</td>\n",
       "      <td>0</td>\n",
       "      <td>0</td>\n",
       "      <td>0</td>\n",
       "    </tr>\n",
       "    <tr>\n",
       "      <th>204097</th>\n",
       "      <td>204097</td>\n",
       "      <td>1</td>\n",
       "      <td>1</td>\n",
       "      <td>2</td>\n",
       "      <td>27</td>\n",
       "      <td>0</td>\n",
       "      <td>0</td>\n",
       "      <td>0</td>\n",
       "      <td>0</td>\n",
       "      <td>0</td>\n",
       "      <td>...</td>\n",
       "      <td>0</td>\n",
       "      <td>0</td>\n",
       "      <td>0</td>\n",
       "      <td>0</td>\n",
       "      <td>0</td>\n",
       "      <td>0</td>\n",
       "      <td>0</td>\n",
       "      <td>0</td>\n",
       "      <td>0</td>\n",
       "      <td>0</td>\n",
       "    </tr>\n",
       "  </tbody>\n",
       "</table>\n",
       "<p>5 rows × 316 columns</p>\n",
       "</div>"
      ],
      "text/plain": [
       "         train_id  item_condition_id  shipping  name_len  description_len  \\\n",
       "1317627   1317627                  3         0         4               10   \n",
       "1356698   1356698                  3         0         4               18   \n",
       "1300098   1300098                  3         0         5                3   \n",
       "282600     282600                  3         0         1               35   \n",
       "204097     204097                  1         1         2               27   \n",
       "\n",
       "         brand_name_5.11 Tactical  brand_name_A Bathing Ape  brand_name_AND1  \\\n",
       "1317627                         0                         0                0   \n",
       "1356698                         0                         0                0   \n",
       "1300098                         0                         0                0   \n",
       "282600                          0                         0                0   \n",
       "204097                          0                         0                0   \n",
       "\n",
       "         brand_name_ASICS  brand_name_Abu Garcia             ...              \\\n",
       "1317627                 0                      0             ...               \n",
       "1356698                 0                      0             ...               \n",
       "1300098                 0                      0             ...               \n",
       "282600                  0                      0             ...               \n",
       "204097                  0                      0             ...               \n",
       "\n",
       "         2_level_cat_Snowboard  2_level_cat_Soccer  \\\n",
       "1317627                      0                   0   \n",
       "1356698                      0                   0   \n",
       "1300098                      0                   0   \n",
       "282600                       0                   0   \n",
       "204097                       0                   0   \n",
       "\n",
       "         2_level_cat_Strength training  2_level_cat_Tennis & Racquets  \\\n",
       "1317627                              0                              0   \n",
       "1356698                              0                              0   \n",
       "1300098                              0                              0   \n",
       "282600                               0                              0   \n",
       "204097                               0                              0   \n",
       "\n",
       "         2_level_cat_Track & Field  2_level_cat_Volleyball  \\\n",
       "1317627                          0                       0   \n",
       "1356698                          0                       0   \n",
       "1300098                          0                       0   \n",
       "282600                           0                       0   \n",
       "204097                           0                       0   \n",
       "\n",
       "         2_level_cat_Water Sports  2_level_cat_Women  \\\n",
       "1317627                         0                  0   \n",
       "1356698                         0                  0   \n",
       "1300098                         0                  0   \n",
       "282600                          0                  0   \n",
       "204097                          0                  0   \n",
       "\n",
       "         2_level_cat_Women's Golf Clubs  2_level_cat_Yoga & Pilates  \n",
       "1317627                               0                           0  \n",
       "1356698                               0                           0  \n",
       "1300098                               0                           0  \n",
       "282600                                0                           0  \n",
       "204097                                0                           0  \n",
       "\n",
       "[5 rows x 316 columns]"
      ]
     },
     "execution_count": 26,
     "metadata": {},
     "output_type": "execute_result"
    }
   ],
   "source": [
    "df_combined.head()"
   ]
  },
  {
   "cell_type": "markdown",
   "metadata": {
    "_cell_guid": "57759640-07eb-43e0-9ed6-1b9225659003",
    "_uuid": "fc279e45affb19827ac3ff6b2b0a4c615bd15609"
   },
   "source": [
    "Split combined data for training and prediction."
   ]
  },
  {
   "cell_type": "code",
   "execution_count": 27,
   "metadata": {
    "_cell_guid": "87e174a3-8e1e-47f3-a5e6-fdf6ea9e3b77",
    "_uuid": "20976b9e462894f43121cde96542d97f2c301890"
   },
   "outputs": [
    {
     "name": "stdout",
     "output_type": "stream",
     "text": [
      "X_train shape: (20273, 316)\n",
      "y_train shape: (20273,)\n",
      "X_test shape: (5069, 316)\n",
      "y_test shape: (5069,)\n",
      "----------------------------\n",
      "Last version of X_train:\n"
     ]
    },
    {
     "data": {
      "text/html": [
       "<div>\n",
       "<style scoped>\n",
       "    .dataframe tbody tr th:only-of-type {\n",
       "        vertical-align: middle;\n",
       "    }\n",
       "\n",
       "    .dataframe tbody tr th {\n",
       "        vertical-align: top;\n",
       "    }\n",
       "\n",
       "    .dataframe thead th {\n",
       "        text-align: right;\n",
       "    }\n",
       "</style>\n",
       "<table border=\"1\" class=\"dataframe\">\n",
       "  <thead>\n",
       "    <tr style=\"text-align: right;\">\n",
       "      <th></th>\n",
       "      <th>train_id</th>\n",
       "      <th>item_condition_id</th>\n",
       "      <th>shipping</th>\n",
       "      <th>name_len</th>\n",
       "      <th>description_len</th>\n",
       "      <th>brand_name_5.11 Tactical</th>\n",
       "      <th>brand_name_A Bathing Ape</th>\n",
       "      <th>brand_name_AND1</th>\n",
       "      <th>brand_name_ASICS</th>\n",
       "      <th>brand_name_Abu Garcia</th>\n",
       "      <th>...</th>\n",
       "      <th>2_level_cat_Snowboard</th>\n",
       "      <th>2_level_cat_Soccer</th>\n",
       "      <th>2_level_cat_Strength training</th>\n",
       "      <th>2_level_cat_Tennis &amp; Racquets</th>\n",
       "      <th>2_level_cat_Track &amp; Field</th>\n",
       "      <th>2_level_cat_Volleyball</th>\n",
       "      <th>2_level_cat_Water Sports</th>\n",
       "      <th>2_level_cat_Women</th>\n",
       "      <th>2_level_cat_Women's Golf Clubs</th>\n",
       "      <th>2_level_cat_Yoga &amp; Pilates</th>\n",
       "    </tr>\n",
       "  </thead>\n",
       "  <tbody>\n",
       "    <tr>\n",
       "      <th>1317627</th>\n",
       "      <td>1317627</td>\n",
       "      <td>3</td>\n",
       "      <td>0</td>\n",
       "      <td>4</td>\n",
       "      <td>10</td>\n",
       "      <td>0</td>\n",
       "      <td>0</td>\n",
       "      <td>0</td>\n",
       "      <td>0</td>\n",
       "      <td>0</td>\n",
       "      <td>...</td>\n",
       "      <td>0</td>\n",
       "      <td>0</td>\n",
       "      <td>0</td>\n",
       "      <td>0</td>\n",
       "      <td>0</td>\n",
       "      <td>0</td>\n",
       "      <td>0</td>\n",
       "      <td>0</td>\n",
       "      <td>0</td>\n",
       "      <td>0</td>\n",
       "    </tr>\n",
       "    <tr>\n",
       "      <th>1356698</th>\n",
       "      <td>1356698</td>\n",
       "      <td>3</td>\n",
       "      <td>0</td>\n",
       "      <td>4</td>\n",
       "      <td>18</td>\n",
       "      <td>0</td>\n",
       "      <td>0</td>\n",
       "      <td>0</td>\n",
       "      <td>0</td>\n",
       "      <td>0</td>\n",
       "      <td>...</td>\n",
       "      <td>0</td>\n",
       "      <td>0</td>\n",
       "      <td>0</td>\n",
       "      <td>0</td>\n",
       "      <td>0</td>\n",
       "      <td>0</td>\n",
       "      <td>0</td>\n",
       "      <td>0</td>\n",
       "      <td>0</td>\n",
       "      <td>0</td>\n",
       "    </tr>\n",
       "    <tr>\n",
       "      <th>1300098</th>\n",
       "      <td>1300098</td>\n",
       "      <td>3</td>\n",
       "      <td>0</td>\n",
       "      <td>5</td>\n",
       "      <td>3</td>\n",
       "      <td>0</td>\n",
       "      <td>0</td>\n",
       "      <td>0</td>\n",
       "      <td>0</td>\n",
       "      <td>0</td>\n",
       "      <td>...</td>\n",
       "      <td>0</td>\n",
       "      <td>0</td>\n",
       "      <td>0</td>\n",
       "      <td>0</td>\n",
       "      <td>0</td>\n",
       "      <td>0</td>\n",
       "      <td>0</td>\n",
       "      <td>0</td>\n",
       "      <td>0</td>\n",
       "      <td>0</td>\n",
       "    </tr>\n",
       "    <tr>\n",
       "      <th>282600</th>\n",
       "      <td>282600</td>\n",
       "      <td>3</td>\n",
       "      <td>0</td>\n",
       "      <td>1</td>\n",
       "      <td>35</td>\n",
       "      <td>0</td>\n",
       "      <td>0</td>\n",
       "      <td>0</td>\n",
       "      <td>0</td>\n",
       "      <td>0</td>\n",
       "      <td>...</td>\n",
       "      <td>0</td>\n",
       "      <td>0</td>\n",
       "      <td>0</td>\n",
       "      <td>0</td>\n",
       "      <td>0</td>\n",
       "      <td>0</td>\n",
       "      <td>0</td>\n",
       "      <td>0</td>\n",
       "      <td>0</td>\n",
       "      <td>0</td>\n",
       "    </tr>\n",
       "    <tr>\n",
       "      <th>204097</th>\n",
       "      <td>204097</td>\n",
       "      <td>1</td>\n",
       "      <td>1</td>\n",
       "      <td>2</td>\n",
       "      <td>27</td>\n",
       "      <td>0</td>\n",
       "      <td>0</td>\n",
       "      <td>0</td>\n",
       "      <td>0</td>\n",
       "      <td>0</td>\n",
       "      <td>...</td>\n",
       "      <td>0</td>\n",
       "      <td>0</td>\n",
       "      <td>0</td>\n",
       "      <td>0</td>\n",
       "      <td>0</td>\n",
       "      <td>0</td>\n",
       "      <td>0</td>\n",
       "      <td>0</td>\n",
       "      <td>0</td>\n",
       "      <td>0</td>\n",
       "    </tr>\n",
       "  </tbody>\n",
       "</table>\n",
       "<p>5 rows × 316 columns</p>\n",
       "</div>"
      ],
      "text/plain": [
       "         train_id  item_condition_id  shipping  name_len  description_len  \\\n",
       "1317627   1317627                  3         0         4               10   \n",
       "1356698   1356698                  3         0         4               18   \n",
       "1300098   1300098                  3         0         5                3   \n",
       "282600     282600                  3         0         1               35   \n",
       "204097     204097                  1         1         2               27   \n",
       "\n",
       "         brand_name_5.11 Tactical  brand_name_A Bathing Ape  brand_name_AND1  \\\n",
       "1317627                         0                         0                0   \n",
       "1356698                         0                         0                0   \n",
       "1300098                         0                         0                0   \n",
       "282600                          0                         0                0   \n",
       "204097                          0                         0                0   \n",
       "\n",
       "         brand_name_ASICS  brand_name_Abu Garcia             ...              \\\n",
       "1317627                 0                      0             ...               \n",
       "1356698                 0                      0             ...               \n",
       "1300098                 0                      0             ...               \n",
       "282600                  0                      0             ...               \n",
       "204097                  0                      0             ...               \n",
       "\n",
       "         2_level_cat_Snowboard  2_level_cat_Soccer  \\\n",
       "1317627                      0                   0   \n",
       "1356698                      0                   0   \n",
       "1300098                      0                   0   \n",
       "282600                       0                   0   \n",
       "204097                       0                   0   \n",
       "\n",
       "         2_level_cat_Strength training  2_level_cat_Tennis & Racquets  \\\n",
       "1317627                              0                              0   \n",
       "1356698                              0                              0   \n",
       "1300098                              0                              0   \n",
       "282600                               0                              0   \n",
       "204097                               0                              0   \n",
       "\n",
       "         2_level_cat_Track & Field  2_level_cat_Volleyball  \\\n",
       "1317627                          0                       0   \n",
       "1356698                          0                       0   \n",
       "1300098                          0                       0   \n",
       "282600                           0                       0   \n",
       "204097                           0                       0   \n",
       "\n",
       "         2_level_cat_Water Sports  2_level_cat_Women  \\\n",
       "1317627                         0                  0   \n",
       "1356698                         0                  0   \n",
       "1300098                         0                  0   \n",
       "282600                          0                  0   \n",
       "204097                          0                  0   \n",
       "\n",
       "         2_level_cat_Women's Golf Clubs  2_level_cat_Yoga & Pilates  \n",
       "1317627                               0                           0  \n",
       "1356698                               0                           0  \n",
       "1300098                               0                           0  \n",
       "282600                                0                           0  \n",
       "204097                                0                           0  \n",
       "\n",
       "[5 rows x 316 columns]"
      ]
     },
     "execution_count": 27,
     "metadata": {},
     "output_type": "execute_result"
    }
   ],
   "source": [
    "X_train, X_test = df_combined[:-test_count], df_combined[train_count:]\n",
    "\n",
    "print(\"X_train shape: {}\".format(X_train.shape))\n",
    "print(\"y_train shape: {}\".format(y_train.shape))\n",
    "print(\"X_test shape: {}\".format(X_test.shape))\n",
    "print(\"y_test shape: {}\".format(y_test.shape))\n",
    "print(\"----------------------------\")\n",
    "print(\"Last version of X_train:\")\n",
    "X_train.head()"
   ]
  },
  {
   "cell_type": "markdown",
   "metadata": {},
   "source": [
    "### Dimensionality Reduction using Incremental PCA"
   ]
  },
  {
   "cell_type": "markdown",
   "metadata": {},
   "source": [
    "Reduced dimensionality to speed up training. Used incremental PCA since other methods are running out of memory."
   ]
  },
  {
   "cell_type": "code",
   "execution_count": 28,
   "metadata": {},
   "outputs": [],
   "source": [
    "dr = IncrementalPCA(n_components=5)\n",
    "dr.fit(X_train)\n",
    "X_train = dr.transform(X_train)\n",
    "X_test = dr.transform(X_test)"
   ]
  },
  {
   "cell_type": "markdown",
   "metadata": {},
   "source": [
    "### Extra Trees Regression"
   ]
  },
  {
   "cell_type": "markdown",
   "metadata": {
    "_cell_guid": "74f8e8b5-f227-4930-a5f8-dce6ada723fc",
    "_uuid": "cd3b5884233bca873a5a108202f5b7d0a1be9cc4"
   },
   "source": [
    "Used GridSearchCV to find out which regularization parameters fit best. Used 5 fold cross validation to speed up training."
   ]
  },
  {
   "cell_type": "code",
   "execution_count": 29,
   "metadata": {
    "_cell_guid": "8f0d52b1-bba8-4ae4-bbc9-11e65edb1950",
    "_uuid": "5300611acf2feb8b72418750cd3d97cdc73269c5"
   },
   "outputs": [],
   "source": [
    "def gridsearchcv_report(predictor):\n",
    "    print(\"Best parameters: {}\".format(predictor.best_params_))\n",
    "    print(\"Best score: {}\".format(predictor.best_score_))"
   ]
  },
  {
   "cell_type": "code",
   "execution_count": 30,
   "metadata": {},
   "outputs": [],
   "source": [
    "def error_report(err):\n",
    "    print(\"MSE: {0}, meaning that prediction error is +/- {0} USD on average.\".format(err))"
   ]
  },
  {
   "cell_type": "code",
   "execution_count": 31,
   "metadata": {},
   "outputs": [
    {
     "name": "stdout",
     "output_type": "stream",
     "text": [
      "Best parameters: {'max_depth': 15, 'min_samples_leaf': 6, 'max_leaf_nodes': None, 'min_samples_split': 3, 'n_estimators': 15}\n",
      "Best score: -14.63606876657518\n"
     ]
    }
   ],
   "source": [
    "hyperparameters = {\"max_depth\": [None, 15, 45], # None means no limit for max depth\n",
    "                   \"min_samples_split\": [1., 3],\n",
    "                   \"min_samples_leaf\": [6, 18, 34],\n",
    "                   \"max_leaf_nodes\": [None, 15, 45], # None means no limit for max leaf nodes\n",
    "                   \"n_estimators\": [5, 10, 15]}\n",
    "\n",
    "et = GridSearchCV(ExtraTreesRegressor(random_state=42), hyperparameters, cv=5, scoring=\"neg_mean_absolute_error\")\n",
    "et.fit(X_train, y_train)\n",
    "gridsearchcv_report(et)"
   ]
  },
  {
   "cell_type": "code",
   "execution_count": 32,
   "metadata": {},
   "outputs": [],
   "source": [
    "et = ExtraTreesRegressor(random_state=42, **et.best_params_)\n",
    "et.fit(X_train, y_train)\n",
    "y_pred_et = et.predict(X_test)"
   ]
  },
  {
   "cell_type": "code",
   "execution_count": 33,
   "metadata": {},
   "outputs": [
    {
     "name": "stdout",
     "output_type": "stream",
     "text": [
      "MSE: 14.179379773603356, meaning that prediction error is +/- 14.179379773603356 USD on average.\n"
     ]
    }
   ],
   "source": [
    "err = mean_absolute_error(y_test, y_pred_et)\n",
    "error_report(err)"
   ]
  },
  {
   "cell_type": "markdown",
   "metadata": {},
   "source": [
    "### Support Vector Regression"
   ]
  },
  {
   "cell_type": "code",
   "execution_count": 34,
   "metadata": {},
   "outputs": [
    {
     "name": "stdout",
     "output_type": "stream",
     "text": [
      "Best parameters: {'gamma': 'auto', 'C': 0.5}\n",
      "Best score: -14.827387819143098\n"
     ]
    }
   ],
   "source": [
    "hyperparameters = {\"C\": [0.5, 1.],\n",
    "                   \"gamma\": [\"auto\", 0.5, 1.]} # auto means 1/n_features\n",
    "\n",
    "svr = GridSearchCV(SVR(), hyperparameters, cv=5, scoring=\"neg_mean_absolute_error\")\n",
    "svr.fit(X_train, y_train)\n",
    "gridsearchcv_report(svr)"
   ]
  },
  {
   "cell_type": "code",
   "execution_count": 35,
   "metadata": {},
   "outputs": [],
   "source": [
    "svr = SVR(**svr.best_params_)\n",
    "svr.fit(X_train, y_train)\n",
    "y_pred_svr = svr.predict(X_test)"
   ]
  },
  {
   "cell_type": "code",
   "execution_count": 36,
   "metadata": {},
   "outputs": [
    {
     "name": "stdout",
     "output_type": "stream",
     "text": [
      "MSE: 14.38222422705145, meaning that prediction error is +/- 14.38222422705145 USD on average.\n"
     ]
    }
   ],
   "source": [
    "err = mean_absolute_error(y_test, y_pred_svr)\n",
    "error_report(err)"
   ]
  },
  {
   "cell_type": "markdown",
   "metadata": {},
   "source": [
    "### Stacking"
   ]
  },
  {
   "cell_type": "code",
   "execution_count": 37,
   "metadata": {},
   "outputs": [
    {
     "name": "stdout",
     "output_type": "stream",
     "text": [
      "Best parameters: {'meta-svr__gamma': 'auto', 'meta-svr__C': 0.5}\n",
      "Best score: -13.644407102909181\n"
     ]
    }
   ],
   "source": [
    "regressors = [et, svr]\n",
    "hyperparameters = {\"meta-svr__C\": [0.5, 1.],\n",
    "                   \"meta-svr__gamma\": [\"auto\", 0.5, 1.]} \n",
    "\n",
    "st = GridSearchCV(StackingRegressor(regressors=regressors, meta_regressor=SVR(kernel=\"rbf\")),\n",
    "                  hyperparameters, cv=5, scoring=\"neg_mean_absolute_error\")\n",
    "st.fit(X_train, y_train)\n",
    "gridsearchcv_report(st)"
   ]
  },
  {
   "cell_type": "code",
   "execution_count": 38,
   "metadata": {},
   "outputs": [],
   "source": [
    "meta_best_params = {}\n",
    "for key in st.best_params_:\n",
    "    meta_best_params[key[10:]] = st.best_params_[key]"
   ]
  },
  {
   "cell_type": "code",
   "execution_count": 39,
   "metadata": {},
   "outputs": [],
   "source": [
    "st = StackingRegressor(regressors=regressors, meta_regressor=SVR(**meta_best_params))\n",
    "st.fit(X_train, y_train)\n",
    "y_pred_st = st.predict(X_test)"
   ]
  },
  {
   "cell_type": "code",
   "execution_count": 40,
   "metadata": {},
   "outputs": [
    {
     "name": "stdout",
     "output_type": "stream",
     "text": [
      "MSE: 13.293300135381172, meaning that prediction error is +/- 13.293300135381172 USD on average.\n"
     ]
    }
   ],
   "source": [
    "err = mean_absolute_error(y_test, y_pred_st)\n",
    "error_report(err)"
   ]
  },
  {
   "cell_type": "markdown",
   "metadata": {},
   "source": [
    "### Plotting Results"
   ]
  },
  {
   "cell_type": "code",
   "execution_count": 41,
   "metadata": {},
   "outputs": [],
   "source": [
    "def plot_regs(X, y, labels, y_preds, colors):\n",
    "    X_test_vis = X.ravel()\n",
    "    X_test_vis = X_test_vis[X_test_vis.argsort()]\n",
    "    y_test_vis = y.values[X_test_vis.argsort()]\n",
    "    \n",
    "    for label, y_pred, color in zip(labels, y_preds, colors):\n",
    "        plt.scatter(X_test_vis, y_test_vis, color='gold', label='data')\n",
    "        y_pred_vis = y_pred[X_test_vis.argsort()]\n",
    "        plt.plot(X_test_vis, y_pred_vis, color=color, label=label)\n",
    "        \n",
    "        plt.title(label)\n",
    "        plt.xlabel('Data')\n",
    "        plt.ylabel('Target')\n",
    "        plt.legend()\n",
    "        plt.show()"
   ]
  },
  {
   "cell_type": "markdown",
   "metadata": {},
   "source": [
    "Reduced dimentionality for visualisation."
   ]
  },
  {
   "cell_type": "code",
   "execution_count": 42,
   "metadata": {},
   "outputs": [],
   "source": [
    "dr = IncrementalPCA(n_components=1)\n",
    "X_test_vis = dr.fit_transform(X_test)"
   ]
  },
  {
   "cell_type": "code",
   "execution_count": 43,
   "metadata": {},
   "outputs": [
    {
     "data": {
      "image/png": "[encoded data removed]",
      "text/plain": [
       "<matplotlib.figure.Figure at 0x7f606eae7978>"
      ]
     },
     "metadata": {},
     "output_type": "display_data"
    },
    {
     "data": {
      "image/png": "[encoded data removed]",
      "text/plain": [
       "<matplotlib.figure.Figure at 0x7f606b1c7f60>"
      ]
     },
     "metadata": {},
     "output_type": "display_data"
    },
    {
     "data": {
      "image/png": "[encoded data removed]",
      "text/plain": [
       "<matplotlib.figure.Figure at 0x7f606b1c7fd0>"
      ]
     },
     "metadata": {},
     "output_type": "display_data"
    }
   ],
   "source": [
    "labels = ['Extra Trees Regression', 'Support Vector Regression', 'Stacking with SVR as Meta Regressor']\n",
    "colors = ['blue', 'darkturquoise', 'magenta']\n",
    "y_preds = [y_pred_et, y_pred_svr, y_pred_st]\n",
    "\n",
    "plot_regs(X_test_vis, y_test, labels, y_preds, colors)"
   ]
  },
  {
   "cell_type": "markdown",
   "metadata": {},
   "source": [
    "#### Conclusion\n",
    "Tried various algorithms including Ridge Regression, Polynomial Regression, Decision Tree, Random Forest, Extra Trees and Support Vector Regressor. Pick best two and combine them using stacking method. In fact, Decision Tree is performing better than SVR. However Extra Trees and SVR are performing better in combination. Best performing blender is also SVR. \n",
    "\n",
    "#### What to Improve\n",
    "Wıth more memory, all provided data could be used for training and descriptions of products could be analyzed in detail. Also hyperparameters of algorithms could be fine-tuned for second time. Lastly, neural nets could be applied to improve performance since it is used by the best performers of the competition."
   ]
  },
  {
   "cell_type": "code",
   "execution_count": null,
   "metadata": {},
   "outputs": [],
   "source": []
  }
 ],
 "metadata": {
  "kernelspec": {
   "display_name": "Python 2",
   "language": "python",
   "name": "python2"
  },
  "language_info": {
   "codemirror_mode": {
    "name": "ipython",
    "version": 3
   },
   "file_extension": ".py",
   "mimetype": "text/x-python",
   "name": "python",
   "nbconvert_exporter": "python",
   "pygments_lexer": "ipython3",
   "version": "3.5.2"
  }
 },
 "nbformat": 4,
 "nbformat_minor": 1
}
